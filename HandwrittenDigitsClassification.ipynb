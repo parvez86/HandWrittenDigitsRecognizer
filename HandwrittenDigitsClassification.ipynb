{
  "nbformat": 4,
  "nbformat_minor": 0,
  "metadata": {
    "colab": {
      "provenance": []
    },
    "kernelspec": {
      "name": "python3",
      "display_name": "Python 3"
    },
    "language_info": {
      "name": "python"
    }
  },
  "cells": [
    {
      "cell_type": "code",
      "execution_count": null,
      "metadata": {
        "id": "3dADVSHbIN_I"
      },
      "outputs": [],
      "source": [
        "import tensorflow as tf\n",
        "from tensorflow import keras\n",
        "import matplotlib.pyplot as plt\n",
        "from sklearn.metrics import classification_report, confusion_matrix\n",
        "%matplotlib inline\n",
        "import numpy as np"
      ]
    },
    {
      "cell_type": "markdown",
      "source": [
        "## <b> Load Datasets </b>"
      ],
      "metadata": {
        "id": "7YFNULBBsieu"
      }
    },
    {
      "cell_type": "code",
      "source": [
        "(X_train, y_train) , (X_test, y_test) = keras.datasets.mnist.load_data()"
      ],
      "metadata": {
        "colab": {
          "base_uri": "https://localhost:8080/"
        },
        "id": "uyulfOqcTR6N",
        "outputId": "03a0b8ce-005e-409d-cf1b-095e2fd84946"
      },
      "execution_count": null,
      "outputs": [
        {
          "output_type": "stream",
          "name": "stdout",
          "text": [
            "Downloading data from https://storage.googleapis.com/tensorflow/tf-keras-datasets/mnist.npz\n",
            "11490434/11490434 [==============================] - 0s 0us/step\n"
          ]
        }
      ]
    },
    {
      "cell_type": "code",
      "source": [
        "len(X_train)"
      ],
      "metadata": {
        "colab": {
          "base_uri": "https://localhost:8080/"
        },
        "id": "zvIleICtTUGF",
        "outputId": "6402ecce-7335-4488-c6ee-3edffb25a398"
      },
      "execution_count": null,
      "outputs": [
        {
          "output_type": "execute_result",
          "data": {
            "text/plain": [
              "60000"
            ]
          },
          "metadata": {},
          "execution_count": 4
        }
      ]
    },
    {
      "cell_type": "code",
      "source": [
        "X_train.shape"
      ],
      "metadata": {
        "colab": {
          "base_uri": "https://localhost:8080/"
        },
        "id": "ZBV5OpVBTmTy",
        "outputId": "543d8a52-6065-4264-bdd4-a74e45f460ec"
      },
      "execution_count": null,
      "outputs": [
        {
          "output_type": "execute_result",
          "data": {
            "text/plain": [
              "(60000, 28, 28)"
            ]
          },
          "metadata": {},
          "execution_count": 5
        }
      ]
    },
    {
      "cell_type": "code",
      "source": [
        "X_train[0]"
      ],
      "metadata": {
        "colab": {
          "base_uri": "https://localhost:8080/"
        },
        "id": "qLhQ_OLkTqUJ",
        "outputId": "8fa9309c-cfb8-4065-d9ab-7648a995f7a9"
      },
      "execution_count": null,
      "outputs": [
        {
          "output_type": "execute_result",
          "data": {
            "text/plain": [
              "array([[  0,   0,   0,   0,   0,   0,   0,   0,   0,   0,   0,   0,   0,\n",
              "          0,   0,   0,   0,   0,   0,   0,   0,   0,   0,   0,   0,   0,\n",
              "          0,   0],\n",
              "       [  0,   0,   0,   0,   0,   0,   0,   0,   0,   0,   0,   0,   0,\n",
              "          0,   0,   0,   0,   0,   0,   0,   0,   0,   0,   0,   0,   0,\n",
              "          0,   0],\n",
              "       [  0,   0,   0,   0,   0,   0,   0,   0,   0,   0,   0,   0,   0,\n",
              "          0,   0,   0,   0,   0,   0,   0,   0,   0,   0,   0,   0,   0,\n",
              "          0,   0],\n",
              "       [  0,   0,   0,   0,   0,   0,   0,   0,   0,   0,   0,   0,   0,\n",
              "          0,   0,   0,   0,   0,   0,   0,   0,   0,   0,   0,   0,   0,\n",
              "          0,   0],\n",
              "       [  0,   0,   0,   0,   0,   0,   0,   0,   0,   0,   0,   0,   0,\n",
              "          0,   0,   0,   0,   0,   0,   0,   0,   0,   0,   0,   0,   0,\n",
              "          0,   0],\n",
              "       [  0,   0,   0,   0,   0,   0,   0,   0,   0,   0,   0,   0,   3,\n",
              "         18,  18,  18, 126, 136, 175,  26, 166, 255, 247, 127,   0,   0,\n",
              "          0,   0],\n",
              "       [  0,   0,   0,   0,   0,   0,   0,   0,  30,  36,  94, 154, 170,\n",
              "        253, 253, 253, 253, 253, 225, 172, 253, 242, 195,  64,   0,   0,\n",
              "          0,   0],\n",
              "       [  0,   0,   0,   0,   0,   0,   0,  49, 238, 253, 253, 253, 253,\n",
              "        253, 253, 253, 253, 251,  93,  82,  82,  56,  39,   0,   0,   0,\n",
              "          0,   0],\n",
              "       [  0,   0,   0,   0,   0,   0,   0,  18, 219, 253, 253, 253, 253,\n",
              "        253, 198, 182, 247, 241,   0,   0,   0,   0,   0,   0,   0,   0,\n",
              "          0,   0],\n",
              "       [  0,   0,   0,   0,   0,   0,   0,   0,  80, 156, 107, 253, 253,\n",
              "        205,  11,   0,  43, 154,   0,   0,   0,   0,   0,   0,   0,   0,\n",
              "          0,   0],\n",
              "       [  0,   0,   0,   0,   0,   0,   0,   0,   0,  14,   1, 154, 253,\n",
              "         90,   0,   0,   0,   0,   0,   0,   0,   0,   0,   0,   0,   0,\n",
              "          0,   0],\n",
              "       [  0,   0,   0,   0,   0,   0,   0,   0,   0,   0,   0, 139, 253,\n",
              "        190,   2,   0,   0,   0,   0,   0,   0,   0,   0,   0,   0,   0,\n",
              "          0,   0],\n",
              "       [  0,   0,   0,   0,   0,   0,   0,   0,   0,   0,   0,  11, 190,\n",
              "        253,  70,   0,   0,   0,   0,   0,   0,   0,   0,   0,   0,   0,\n",
              "          0,   0],\n",
              "       [  0,   0,   0,   0,   0,   0,   0,   0,   0,   0,   0,   0,  35,\n",
              "        241, 225, 160, 108,   1,   0,   0,   0,   0,   0,   0,   0,   0,\n",
              "          0,   0],\n",
              "       [  0,   0,   0,   0,   0,   0,   0,   0,   0,   0,   0,   0,   0,\n",
              "         81, 240, 253, 253, 119,  25,   0,   0,   0,   0,   0,   0,   0,\n",
              "          0,   0],\n",
              "       [  0,   0,   0,   0,   0,   0,   0,   0,   0,   0,   0,   0,   0,\n",
              "          0,  45, 186, 253, 253, 150,  27,   0,   0,   0,   0,   0,   0,\n",
              "          0,   0],\n",
              "       [  0,   0,   0,   0,   0,   0,   0,   0,   0,   0,   0,   0,   0,\n",
              "          0,   0,  16,  93, 252, 253, 187,   0,   0,   0,   0,   0,   0,\n",
              "          0,   0],\n",
              "       [  0,   0,   0,   0,   0,   0,   0,   0,   0,   0,   0,   0,   0,\n",
              "          0,   0,   0,   0, 249, 253, 249,  64,   0,   0,   0,   0,   0,\n",
              "          0,   0],\n",
              "       [  0,   0,   0,   0,   0,   0,   0,   0,   0,   0,   0,   0,   0,\n",
              "          0,  46, 130, 183, 253, 253, 207,   2,   0,   0,   0,   0,   0,\n",
              "          0,   0],\n",
              "       [  0,   0,   0,   0,   0,   0,   0,   0,   0,   0,   0,   0,  39,\n",
              "        148, 229, 253, 253, 253, 250, 182,   0,   0,   0,   0,   0,   0,\n",
              "          0,   0],\n",
              "       [  0,   0,   0,   0,   0,   0,   0,   0,   0,   0,  24, 114, 221,\n",
              "        253, 253, 253, 253, 201,  78,   0,   0,   0,   0,   0,   0,   0,\n",
              "          0,   0],\n",
              "       [  0,   0,   0,   0,   0,   0,   0,   0,  23,  66, 213, 253, 253,\n",
              "        253, 253, 198,  81,   2,   0,   0,   0,   0,   0,   0,   0,   0,\n",
              "          0,   0],\n",
              "       [  0,   0,   0,   0,   0,   0,  18, 171, 219, 253, 253, 253, 253,\n",
              "        195,  80,   9,   0,   0,   0,   0,   0,   0,   0,   0,   0,   0,\n",
              "          0,   0],\n",
              "       [  0,   0,   0,   0,  55, 172, 226, 253, 253, 253, 253, 244, 133,\n",
              "         11,   0,   0,   0,   0,   0,   0,   0,   0,   0,   0,   0,   0,\n",
              "          0,   0],\n",
              "       [  0,   0,   0,   0, 136, 253, 253, 253, 212, 135, 132,  16,   0,\n",
              "          0,   0,   0,   0,   0,   0,   0,   0,   0,   0,   0,   0,   0,\n",
              "          0,   0],\n",
              "       [  0,   0,   0,   0,   0,   0,   0,   0,   0,   0,   0,   0,   0,\n",
              "          0,   0,   0,   0,   0,   0,   0,   0,   0,   0,   0,   0,   0,\n",
              "          0,   0],\n",
              "       [  0,   0,   0,   0,   0,   0,   0,   0,   0,   0,   0,   0,   0,\n",
              "          0,   0,   0,   0,   0,   0,   0,   0,   0,   0,   0,   0,   0,\n",
              "          0,   0],\n",
              "       [  0,   0,   0,   0,   0,   0,   0,   0,   0,   0,   0,   0,   0,\n",
              "          0,   0,   0,   0,   0,   0,   0,   0,   0,   0,   0,   0,   0,\n",
              "          0,   0]], dtype=uint8)"
            ]
          },
          "metadata": {},
          "execution_count": 6
        }
      ]
    },
    {
      "cell_type": "code",
      "source": [
        "plt.matshow(X_train[0])"
      ],
      "metadata": {
        "colab": {
          "base_uri": "https://localhost:8080/",
          "height": 455
        },
        "id": "g6aBvfN6TxRF",
        "outputId": "68d92a9d-a58f-4cb0-c591-fecb07bf7415"
      },
      "execution_count": null,
      "outputs": [
        {
          "output_type": "execute_result",
          "data": {
            "text/plain": [
              "<matplotlib.image.AxesImage at 0x7effca6c0b80>"
            ]
          },
          "metadata": {},
          "execution_count": 7
        },
        {
          "output_type": "display_data",
          "data": {
            "text/plain": [
              "<Figure size 480x480 with 1 Axes>"
            ],
            "image/png": "[encoded data removed]"
          },
          "metadata": {}
        }
      ]
    },
    {
      "cell_type": "markdown",
      "source": [
        "## <b> Pre-processing </b>"
      ],
      "metadata": {
        "id": "pT26Qs9Bsubw"
      }
    },
    {
      "cell_type": "code",
      "source": [
        "X_train = X_train / 255\n",
        "X_test = X_test / 255"
      ],
      "metadata": {
        "id": "Vr9UoCqkT933"
      },
      "execution_count": null,
      "outputs": []
    },
    {
      "cell_type": "code",
      "source": [
        "X_train[0]"
      ],
      "metadata": {
        "colab": {
          "base_uri": "https://localhost:8080/"
        },
        "id": "sCnm0XrVUJ9h",
        "outputId": "ecf636fd-3bd8-400d-c3e9-c24c9a20fa18"
      },
      "execution_count": null,
      "outputs": [
        {
          "output_type": "execute_result",
          "data": {
            "text/plain": [
              "array([[0.        , 0.        , 0.        , 0.        , 0.        ,\n",
              "        0.        , 0.        , 0.        , 0.        , 0.        ,\n",
              "        0.        , 0.        , 0.        , 0.        , 0.        ,\n",
              "        0.        , 0.        , 0.        , 0.        , 0.        ,\n",
              "        0.        , 0.        , 0.        , 0.        , 0.        ,\n",
              "        0.        , 0.        , 0.        ],\n",
              "       [0.        , 0.        , 0.        , 0.        , 0.        ,\n",
              "        0.        , 0.        , 0.        , 0.        , 0.        ,\n",
              "        0.        , 0.        , 0.        , 0.        , 0.        ,\n",
              "        0.        , 0.        , 0.        , 0.        , 0.        ,\n",
              "        0.        , 0.        , 0.        , 0.        , 0.        ,\n",
              "        0.        , 0.        , 0.        ],\n",
              "       [0.        , 0.        , 0.        , 0.        , 0.        ,\n",
              "        0.        , 0.        , 0.        , 0.        , 0.        ,\n",
              "        0.        , 0.        , 0.        , 0.        , 0.        ,\n",
              "        0.        , 0.        , 0.        , 0.        , 0.        ,\n",
              "        0.        , 0.        , 0.        , 0.        , 0.        ,\n",
              "        0.        , 0.        , 0.        ],\n",
              "       [0.        , 0.        , 0.        , 0.        , 0.        ,\n",
              "        0.        , 0.        , 0.        , 0.        , 0.        ,\n",
              "        0.        , 0.        , 0.        , 0.        , 0.        ,\n",
              "        0.        , 0.        , 0.        , 0.        , 0.        ,\n",
              "        0.        , 0.        , 0.        , 0.        , 0.        ,\n",
              "        0.        , 0.        , 0.        ],\n",
              "       [0.        , 0.        , 0.        , 0.        , 0.        ,\n",
              "        0.        , 0.        , 0.        , 0.        , 0.        ,\n",
              "        0.        , 0.        , 0.        , 0.        , 0.        ,\n",
              "        0.        , 0.        , 0.        , 0.        , 0.        ,\n",
              "        0.        , 0.        , 0.        , 0.        , 0.        ,\n",
              "        0.        , 0.        , 0.        ],\n",
              "       [0.        , 0.        , 0.        , 0.        , 0.        ,\n",
              "        0.        , 0.        , 0.        , 0.        , 0.        ,\n",
              "        0.        , 0.        , 0.01176471, 0.07058824, 0.07058824,\n",
              "        0.07058824, 0.49411765, 0.53333333, 0.68627451, 0.10196078,\n",
              "        0.65098039, 1.        , 0.96862745, 0.49803922, 0.        ,\n",
              "        0.        , 0.        , 0.        ],\n",
              "       [0.        , 0.        , 0.        , 0.        , 0.        ,\n",
              "        0.        , 0.        , 0.        , 0.11764706, 0.14117647,\n",
              "        0.36862745, 0.60392157, 0.66666667, 0.99215686, 0.99215686,\n",
              "        0.99215686, 0.99215686, 0.99215686, 0.88235294, 0.6745098 ,\n",
              "        0.99215686, 0.94901961, 0.76470588, 0.25098039, 0.        ,\n",
              "        0.        , 0.        , 0.        ],\n",
              "       [0.        , 0.        , 0.        , 0.        , 0.        ,\n",
              "        0.        , 0.        , 0.19215686, 0.93333333, 0.99215686,\n",
              "        0.99215686, 0.99215686, 0.99215686, 0.99215686, 0.99215686,\n",
              "        0.99215686, 0.99215686, 0.98431373, 0.36470588, 0.32156863,\n",
              "        0.32156863, 0.21960784, 0.15294118, 0.        , 0.        ,\n",
              "        0.        , 0.        , 0.        ],\n",
              "       [0.        , 0.        , 0.        , 0.        , 0.        ,\n",
              "        0.        , 0.        , 0.07058824, 0.85882353, 0.99215686,\n",
              "        0.99215686, 0.99215686, 0.99215686, 0.99215686, 0.77647059,\n",
              "        0.71372549, 0.96862745, 0.94509804, 0.        , 0.        ,\n",
              "        0.        , 0.        , 0.        , 0.        , 0.        ,\n",
              "        0.        , 0.        , 0.        ],\n",
              "       [0.        , 0.        , 0.        , 0.        , 0.        ,\n",
              "        0.        , 0.        , 0.        , 0.31372549, 0.61176471,\n",
              "        0.41960784, 0.99215686, 0.99215686, 0.80392157, 0.04313725,\n",
              "        0.        , 0.16862745, 0.60392157, 0.        , 0.        ,\n",
              "        0.        , 0.        , 0.        , 0.        , 0.        ,\n",
              "        0.        , 0.        , 0.        ],\n",
              "       [0.        , 0.        , 0.        , 0.        , 0.        ,\n",
              "        0.        , 0.        , 0.        , 0.        , 0.05490196,\n",
              "        0.00392157, 0.60392157, 0.99215686, 0.35294118, 0.        ,\n",
              "        0.        , 0.        , 0.        , 0.        , 0.        ,\n",
              "        0.        , 0.        , 0.        , 0.        , 0.        ,\n",
              "        0.        , 0.        , 0.        ],\n",
              "       [0.        , 0.        , 0.        , 0.        , 0.        ,\n",
              "        0.        , 0.        , 0.        , 0.        , 0.        ,\n",
              "        0.        , 0.54509804, 0.99215686, 0.74509804, 0.00784314,\n",
              "        0.        , 0.        , 0.        , 0.        , 0.        ,\n",
              "        0.        , 0.        , 0.        , 0.        , 0.        ,\n",
              "        0.        , 0.        , 0.        ],\n",
              "       [0.        , 0.        , 0.        , 0.        , 0.        ,\n",
              "        0.        , 0.        , 0.        , 0.        , 0.        ,\n",
              "        0.        , 0.04313725, 0.74509804, 0.99215686, 0.2745098 ,\n",
              "        0.        , 0.        , 0.        , 0.        , 0.        ,\n",
              "        0.        , 0.        , 0.        , 0.        , 0.        ,\n",
              "        0.        , 0.        , 0.        ],\n",
              "       [0.        , 0.        , 0.        , 0.        , 0.        ,\n",
              "        0.        , 0.        , 0.        , 0.        , 0.        ,\n",
              "        0.        , 0.        , 0.1372549 , 0.94509804, 0.88235294,\n",
              "        0.62745098, 0.42352941, 0.00392157, 0.        , 0.        ,\n",
              "        0.        , 0.        , 0.        , 0.        , 0.        ,\n",
              "        0.        , 0.        , 0.        ],\n",
              "       [0.        , 0.        , 0.        , 0.        , 0.        ,\n",
              "        0.        , 0.        , 0.        , 0.        , 0.        ,\n",
              "        0.        , 0.        , 0.        , 0.31764706, 0.94117647,\n",
              "        0.99215686, 0.99215686, 0.46666667, 0.09803922, 0.        ,\n",
              "        0.        , 0.        , 0.        , 0.        , 0.        ,\n",
              "        0.        , 0.        , 0.        ],\n",
              "       [0.        , 0.        , 0.        , 0.        , 0.        ,\n",
              "        0.        , 0.        , 0.        , 0.        , 0.        ,\n",
              "        0.        , 0.        , 0.        , 0.        , 0.17647059,\n",
              "        0.72941176, 0.99215686, 0.99215686, 0.58823529, 0.10588235,\n",
              "        0.        , 0.        , 0.        , 0.        , 0.        ,\n",
              "        0.        , 0.        , 0.        ],\n",
              "       [0.        , 0.        , 0.        , 0.        , 0.        ,\n",
              "        0.        , 0.        , 0.        , 0.        , 0.        ,\n",
              "        0.        , 0.        , 0.        , 0.        , 0.        ,\n",
              "        0.0627451 , 0.36470588, 0.98823529, 0.99215686, 0.73333333,\n",
              "        0.        , 0.        , 0.        , 0.        , 0.        ,\n",
              "        0.        , 0.        , 0.        ],\n",
              "       [0.        , 0.        , 0.        , 0.        , 0.        ,\n",
              "        0.        , 0.        , 0.        , 0.        , 0.        ,\n",
              "        0.        , 0.        , 0.        , 0.        , 0.        ,\n",
              "        0.        , 0.        , 0.97647059, 0.99215686, 0.97647059,\n",
              "        0.25098039, 0.        , 0.        , 0.        , 0.        ,\n",
              "        0.        , 0.        , 0.        ],\n",
              "       [0.        , 0.        , 0.        , 0.        , 0.        ,\n",
              "        0.        , 0.        , 0.        , 0.        , 0.        ,\n",
              "        0.        , 0.        , 0.        , 0.        , 0.18039216,\n",
              "        0.50980392, 0.71764706, 0.99215686, 0.99215686, 0.81176471,\n",
              "        0.00784314, 0.        , 0.        , 0.        , 0.        ,\n",
              "        0.        , 0.        , 0.        ],\n",
              "       [0.        , 0.        , 0.        , 0.        , 0.        ,\n",
              "        0.        , 0.        , 0.        , 0.        , 0.        ,\n",
              "        0.        , 0.        , 0.15294118, 0.58039216, 0.89803922,\n",
              "        0.99215686, 0.99215686, 0.99215686, 0.98039216, 0.71372549,\n",
              "        0.        , 0.        , 0.        , 0.        , 0.        ,\n",
              "        0.        , 0.        , 0.        ],\n",
              "       [0.        , 0.        , 0.        , 0.        , 0.        ,\n",
              "        0.        , 0.        , 0.        , 0.        , 0.        ,\n",
              "        0.09411765, 0.44705882, 0.86666667, 0.99215686, 0.99215686,\n",
              "        0.99215686, 0.99215686, 0.78823529, 0.30588235, 0.        ,\n",
              "        0.        , 0.        , 0.        , 0.        , 0.        ,\n",
              "        0.        , 0.        , 0.        ],\n",
              "       [0.        , 0.        , 0.        , 0.        , 0.        ,\n",
              "        0.        , 0.        , 0.        , 0.09019608, 0.25882353,\n",
              "        0.83529412, 0.99215686, 0.99215686, 0.99215686, 0.99215686,\n",
              "        0.77647059, 0.31764706, 0.00784314, 0.        , 0.        ,\n",
              "        0.        , 0.        , 0.        , 0.        , 0.        ,\n",
              "        0.        , 0.        , 0.        ],\n",
              "       [0.        , 0.        , 0.        , 0.        , 0.        ,\n",
              "        0.        , 0.07058824, 0.67058824, 0.85882353, 0.99215686,\n",
              "        0.99215686, 0.99215686, 0.99215686, 0.76470588, 0.31372549,\n",
              "        0.03529412, 0.        , 0.        , 0.        , 0.        ,\n",
              "        0.        , 0.        , 0.        , 0.        , 0.        ,\n",
              "        0.        , 0.        , 0.        ],\n",
              "       [0.        , 0.        , 0.        , 0.        , 0.21568627,\n",
              "        0.6745098 , 0.88627451, 0.99215686, 0.99215686, 0.99215686,\n",
              "        0.99215686, 0.95686275, 0.52156863, 0.04313725, 0.        ,\n",
              "        0.        , 0.        , 0.        , 0.        , 0.        ,\n",
              "        0.        , 0.        , 0.        , 0.        , 0.        ,\n",
              "        0.        , 0.        , 0.        ],\n",
              "       [0.        , 0.        , 0.        , 0.        , 0.53333333,\n",
              "        0.99215686, 0.99215686, 0.99215686, 0.83137255, 0.52941176,\n",
              "        0.51764706, 0.0627451 , 0.        , 0.        , 0.        ,\n",
              "        0.        , 0.        , 0.        , 0.        , 0.        ,\n",
              "        0.        , 0.        , 0.        , 0.        , 0.        ,\n",
              "        0.        , 0.        , 0.        ],\n",
              "       [0.        , 0.        , 0.        , 0.        , 0.        ,\n",
              "        0.        , 0.        , 0.        , 0.        , 0.        ,\n",
              "        0.        , 0.        , 0.        , 0.        , 0.        ,\n",
              "        0.        , 0.        , 0.        , 0.        , 0.        ,\n",
              "        0.        , 0.        , 0.        , 0.        , 0.        ,\n",
              "        0.        , 0.        , 0.        ],\n",
              "       [0.        , 0.        , 0.        , 0.        , 0.        ,\n",
              "        0.        , 0.        , 0.        , 0.        , 0.        ,\n",
              "        0.        , 0.        , 0.        , 0.        , 0.        ,\n",
              "        0.        , 0.        , 0.        , 0.        , 0.        ,\n",
              "        0.        , 0.        , 0.        , 0.        , 0.        ,\n",
              "        0.        , 0.        , 0.        ],\n",
              "       [0.        , 0.        , 0.        , 0.        , 0.        ,\n",
              "        0.        , 0.        , 0.        , 0.        , 0.        ,\n",
              "        0.        , 0.        , 0.        , 0.        , 0.        ,\n",
              "        0.        , 0.        , 0.        , 0.        , 0.        ,\n",
              "        0.        , 0.        , 0.        , 0.        , 0.        ,\n",
              "        0.        , 0.        , 0.        ]])"
            ]
          },
          "metadata": {},
          "execution_count": 9
        }
      ]
    },
    {
      "cell_type": "code",
      "source": [
        "X_train_flattened = X_train.reshape(len(X_train), 28*28)\n",
        "X_test_flattened = X_test.reshape(len(X_test), 28*28)"
      ],
      "metadata": {
        "id": "QDMP81LjUTDa"
      },
      "execution_count": null,
      "outputs": []
    },
    {
      "cell_type": "code",
      "source": [
        "X_train_flattened.shape"
      ],
      "metadata": {
        "colab": {
          "base_uri": "https://localhost:8080/"
        },
        "id": "pdprKPgGUVLl",
        "outputId": "5d81b9af-d1c1-4934-e41e-d53c01058cf0"
      },
      "execution_count": null,
      "outputs": [
        {
          "output_type": "execute_result",
          "data": {
            "text/plain": [
              "(60000, 784)"
            ]
          },
          "metadata": {},
          "execution_count": 11
        }
      ]
    },
    {
      "cell_type": "code",
      "source": [
        "X_train_flattened[0]"
      ],
      "metadata": {
        "colab": {
          "base_uri": "https://localhost:8080/"
        },
        "id": "tEex6my2UN1p",
        "outputId": "f50dc9cd-ea01-445d-aab9-5d97a4f6f9ab"
      },
      "execution_count": null,
      "outputs": [
        {
          "output_type": "execute_result",
          "data": {
            "text/plain": [
              "array([0.        , 0.        , 0.        , 0.        , 0.        ,\n",
              "       0.        , 0.        , 0.        , 0.        , 0.        ,\n",
              "       0.        , 0.        , 0.        , 0.        , 0.        ,\n",
              "       0.        , 0.        , 0.        , 0.        , 0.        ,\n",
              "       0.        , 0.        , 0.        , 0.        , 0.        ,\n",
              "       0.        , 0.        , 0.        , 0.        , 0.        ,\n",
              "       0.        , 0.        , 0.        , 0.        , 0.        ,\n",
              "       0.        , 0.        , 0.        , 0.        , 0.        ,\n",
              "       0.        , 0.        , 0.        , 0.        , 0.        ,\n",
              "       0.        , 0.        , 0.        , 0.        , 0.        ,\n",
              "       0.        , 0.        , 0.        , 0.        , 0.        ,\n",
              "       0.        , 0.        , 0.        , 0.        , 0.        ,\n",
              "       0.        , 0.        , 0.        , 0.        , 0.        ,\n",
              "       0.        , 0.        , 0.        , 0.        , 0.        ,\n",
              "       0.        , 0.        , 0.        , 0.        , 0.        ,\n",
              "       0.        , 0.        , 0.        , 0.        , 0.        ,\n",
              "       0.        , 0.        , 0.        , 0.        , 0.        ,\n",
              "       0.        , 0.        , 0.        , 0.        , 0.        ,\n",
              "       0.        , 0.        , 0.        , 0.        , 0.        ,\n",
              "       0.        , 0.        , 0.        , 0.        , 0.        ,\n",
              "       0.        , 0.        , 0.        , 0.        , 0.        ,\n",
              "       0.        , 0.        , 0.        , 0.        , 0.        ,\n",
              "       0.        , 0.        , 0.        , 0.        , 0.        ,\n",
              "       0.        , 0.        , 0.        , 0.        , 0.        ,\n",
              "       0.        , 0.        , 0.        , 0.        , 0.        ,\n",
              "       0.        , 0.        , 0.        , 0.        , 0.        ,\n",
              "       0.        , 0.        , 0.        , 0.        , 0.        ,\n",
              "       0.        , 0.        , 0.        , 0.        , 0.        ,\n",
              "       0.        , 0.        , 0.        , 0.        , 0.        ,\n",
              "       0.        , 0.        , 0.        , 0.        , 0.        ,\n",
              "       0.        , 0.        , 0.01176471, 0.07058824, 0.07058824,\n",
              "       0.07058824, 0.49411765, 0.53333333, 0.68627451, 0.10196078,\n",
              "       0.65098039, 1.        , 0.96862745, 0.49803922, 0.        ,\n",
              "       0.        , 0.        , 0.        , 0.        , 0.        ,\n",
              "       0.        , 0.        , 0.        , 0.        , 0.        ,\n",
              "       0.        , 0.11764706, 0.14117647, 0.36862745, 0.60392157,\n",
              "       0.66666667, 0.99215686, 0.99215686, 0.99215686, 0.99215686,\n",
              "       0.99215686, 0.88235294, 0.6745098 , 0.99215686, 0.94901961,\n",
              "       0.76470588, 0.25098039, 0.        , 0.        , 0.        ,\n",
              "       0.        , 0.        , 0.        , 0.        , 0.        ,\n",
              "       0.        , 0.        , 0.        , 0.19215686, 0.93333333,\n",
              "       0.99215686, 0.99215686, 0.99215686, 0.99215686, 0.99215686,\n",
              "       0.99215686, 0.99215686, 0.99215686, 0.98431373, 0.36470588,\n",
              "       0.32156863, 0.32156863, 0.21960784, 0.15294118, 0.        ,\n",
              "       0.        , 0.        , 0.        , 0.        , 0.        ,\n",
              "       0.        , 0.        , 0.        , 0.        , 0.        ,\n",
              "       0.        , 0.07058824, 0.85882353, 0.99215686, 0.99215686,\n",
              "       0.99215686, 0.99215686, 0.99215686, 0.77647059, 0.71372549,\n",
              "       0.96862745, 0.94509804, 0.        , 0.        , 0.        ,\n",
              "       0.        , 0.        , 0.        , 0.        , 0.        ,\n",
              "       0.        , 0.        , 0.        , 0.        , 0.        ,\n",
              "       0.        , 0.        , 0.        , 0.        , 0.        ,\n",
              "       0.31372549, 0.61176471, 0.41960784, 0.99215686, 0.99215686,\n",
              "       0.80392157, 0.04313725, 0.        , 0.16862745, 0.60392157,\n",
              "       0.        , 0.        , 0.        , 0.        , 0.        ,\n",
              "       0.        , 0.        , 0.        , 0.        , 0.        ,\n",
              "       0.        , 0.        , 0.        , 0.        , 0.        ,\n",
              "       0.        , 0.        , 0.        , 0.        , 0.05490196,\n",
              "       0.00392157, 0.60392157, 0.99215686, 0.35294118, 0.        ,\n",
              "       0.        , 0.        , 0.        , 0.        , 0.        ,\n",
              "       0.        , 0.        , 0.        , 0.        , 0.        ,\n",
              "       0.        , 0.        , 0.        , 0.        , 0.        ,\n",
              "       0.        , 0.        , 0.        , 0.        , 0.        ,\n",
              "       0.        , 0.        , 0.        , 0.        , 0.54509804,\n",
              "       0.99215686, 0.74509804, 0.00784314, 0.        , 0.        ,\n",
              "       0.        , 0.        , 0.        , 0.        , 0.        ,\n",
              "       0.        , 0.        , 0.        , 0.        , 0.        ,\n",
              "       0.        , 0.        , 0.        , 0.        , 0.        ,\n",
              "       0.        , 0.        , 0.        , 0.        , 0.        ,\n",
              "       0.        , 0.        , 0.04313725, 0.74509804, 0.99215686,\n",
              "       0.2745098 , 0.        , 0.        , 0.        , 0.        ,\n",
              "       0.        , 0.        , 0.        , 0.        , 0.        ,\n",
              "       0.        , 0.        , 0.        , 0.        , 0.        ,\n",
              "       0.        , 0.        , 0.        , 0.        , 0.        ,\n",
              "       0.        , 0.        , 0.        , 0.        , 0.        ,\n",
              "       0.        , 0.1372549 , 0.94509804, 0.88235294, 0.62745098,\n",
              "       0.42352941, 0.00392157, 0.        , 0.        , 0.        ,\n",
              "       0.        , 0.        , 0.        , 0.        , 0.        ,\n",
              "       0.        , 0.        , 0.        , 0.        , 0.        ,\n",
              "       0.        , 0.        , 0.        , 0.        , 0.        ,\n",
              "       0.        , 0.        , 0.        , 0.        , 0.        ,\n",
              "       0.31764706, 0.94117647, 0.99215686, 0.99215686, 0.46666667,\n",
              "       0.09803922, 0.        , 0.        , 0.        , 0.        ,\n",
              "       0.        , 0.        , 0.        , 0.        , 0.        ,\n",
              "       0.        , 0.        , 0.        , 0.        , 0.        ,\n",
              "       0.        , 0.        , 0.        , 0.        , 0.        ,\n",
              "       0.        , 0.        , 0.        , 0.        , 0.17647059,\n",
              "       0.72941176, 0.99215686, 0.99215686, 0.58823529, 0.10588235,\n",
              "       0.        , 0.        , 0.        , 0.        , 0.        ,\n",
              "       0.        , 0.        , 0.        , 0.        , 0.        ,\n",
              "       0.        , 0.        , 0.        , 0.        , 0.        ,\n",
              "       0.        , 0.        , 0.        , 0.        , 0.        ,\n",
              "       0.        , 0.        , 0.        , 0.0627451 , 0.36470588,\n",
              "       0.98823529, 0.99215686, 0.73333333, 0.        , 0.        ,\n",
              "       0.        , 0.        , 0.        , 0.        , 0.        ,\n",
              "       0.        , 0.        , 0.        , 0.        , 0.        ,\n",
              "       0.        , 0.        , 0.        , 0.        , 0.        ,\n",
              "       0.        , 0.        , 0.        , 0.        , 0.        ,\n",
              "       0.        , 0.        , 0.        , 0.97647059, 0.99215686,\n",
              "       0.97647059, 0.25098039, 0.        , 0.        , 0.        ,\n",
              "       0.        , 0.        , 0.        , 0.        , 0.        ,\n",
              "       0.        , 0.        , 0.        , 0.        , 0.        ,\n",
              "       0.        , 0.        , 0.        , 0.        , 0.        ,\n",
              "       0.        , 0.        , 0.        , 0.18039216, 0.50980392,\n",
              "       0.71764706, 0.99215686, 0.99215686, 0.81176471, 0.00784314,\n",
              "       0.        , 0.        , 0.        , 0.        , 0.        ,\n",
              "       0.        , 0.        , 0.        , 0.        , 0.        ,\n",
              "       0.        , 0.        , 0.        , 0.        , 0.        ,\n",
              "       0.        , 0.        , 0.        , 0.        , 0.15294118,\n",
              "       0.58039216, 0.89803922, 0.99215686, 0.99215686, 0.99215686,\n",
              "       0.98039216, 0.71372549, 0.        , 0.        , 0.        ,\n",
              "       0.        , 0.        , 0.        , 0.        , 0.        ,\n",
              "       0.        , 0.        , 0.        , 0.        , 0.        ,\n",
              "       0.        , 0.        , 0.        , 0.        , 0.        ,\n",
              "       0.09411765, 0.44705882, 0.86666667, 0.99215686, 0.99215686,\n",
              "       0.99215686, 0.99215686, 0.78823529, 0.30588235, 0.        ,\n",
              "       0.        , 0.        , 0.        , 0.        , 0.        ,\n",
              "       0.        , 0.        , 0.        , 0.        , 0.        ,\n",
              "       0.        , 0.        , 0.        , 0.        , 0.        ,\n",
              "       0.        , 0.09019608, 0.25882353, 0.83529412, 0.99215686,\n",
              "       0.99215686, 0.99215686, 0.99215686, 0.77647059, 0.31764706,\n",
              "       0.00784314, 0.        , 0.        , 0.        , 0.        ,\n",
              "       0.        , 0.        , 0.        , 0.        , 0.        ,\n",
              "       0.        , 0.        , 0.        , 0.        , 0.        ,\n",
              "       0.        , 0.        , 0.07058824, 0.67058824, 0.85882353,\n",
              "       0.99215686, 0.99215686, 0.99215686, 0.99215686, 0.76470588,\n",
              "       0.31372549, 0.03529412, 0.        , 0.        , 0.        ,\n",
              "       0.        , 0.        , 0.        , 0.        , 0.        ,\n",
              "       0.        , 0.        , 0.        , 0.        , 0.        ,\n",
              "       0.        , 0.        , 0.        , 0.21568627, 0.6745098 ,\n",
              "       0.88627451, 0.99215686, 0.99215686, 0.99215686, 0.99215686,\n",
              "       0.95686275, 0.52156863, 0.04313725, 0.        , 0.        ,\n",
              "       0.        , 0.        , 0.        , 0.        , 0.        ,\n",
              "       0.        , 0.        , 0.        , 0.        , 0.        ,\n",
              "       0.        , 0.        , 0.        , 0.        , 0.        ,\n",
              "       0.        , 0.53333333, 0.99215686, 0.99215686, 0.99215686,\n",
              "       0.83137255, 0.52941176, 0.51764706, 0.0627451 , 0.        ,\n",
              "       0.        , 0.        , 0.        , 0.        , 0.        ,\n",
              "       0.        , 0.        , 0.        , 0.        , 0.        ,\n",
              "       0.        , 0.        , 0.        , 0.        , 0.        ,\n",
              "       0.        , 0.        , 0.        , 0.        , 0.        ,\n",
              "       0.        , 0.        , 0.        , 0.        , 0.        ,\n",
              "       0.        , 0.        , 0.        , 0.        , 0.        ,\n",
              "       0.        , 0.        , 0.        , 0.        , 0.        ,\n",
              "       0.        , 0.        , 0.        , 0.        , 0.        ,\n",
              "       0.        , 0.        , 0.        , 0.        , 0.        ,\n",
              "       0.        , 0.        , 0.        , 0.        , 0.        ,\n",
              "       0.        , 0.        , 0.        , 0.        , 0.        ,\n",
              "       0.        , 0.        , 0.        , 0.        , 0.        ,\n",
              "       0.        , 0.        , 0.        , 0.        , 0.        ,\n",
              "       0.        , 0.        , 0.        , 0.        , 0.        ,\n",
              "       0.        , 0.        , 0.        , 0.        , 0.        ,\n",
              "       0.        , 0.        , 0.        , 0.        , 0.        ,\n",
              "       0.        , 0.        , 0.        , 0.        , 0.        ,\n",
              "       0.        , 0.        , 0.        , 0.        , 0.        ,\n",
              "       0.        , 0.        , 0.        , 0.        , 0.        ,\n",
              "       0.        , 0.        , 0.        , 0.        ])"
            ]
          },
          "metadata": {},
          "execution_count": 12
        }
      ]
    },
    {
      "cell_type": "code",
      "source": [
        "model = keras.Sequential([\n",
        "    keras.layers.Dense(10, input_shape=(784,), activation='sigmoid')\n",
        "])\n",
        "\n",
        "model.compile(optimizer='adam',\n",
        "              loss='sparse_categorical_crossentropy',\n",
        "              metrics=['accuracy'])\n",
        "\n",
        "model.fit(X_train_flattened, y_train, epochs=5)"
      ],
      "metadata": {
        "colab": {
          "base_uri": "https://localhost:8080/"
        },
        "id": "-xzu-ek-UeKq",
        "outputId": "47795454-3f41-4ea5-ce49-88ee5d6bf187"
      },
      "execution_count": null,
      "outputs": [
        {
          "output_type": "stream",
          "name": "stdout",
          "text": [
            "Epoch 1/5\n",
            "1875/1875 [==============================] - 4s 2ms/step - loss: 0.4721 - accuracy: 0.8779\n",
            "Epoch 2/5\n",
            "1875/1875 [==============================] - 3s 2ms/step - loss: 0.3046 - accuracy: 0.9143\n",
            "Epoch 3/5\n",
            "1875/1875 [==============================] - 4s 2ms/step - loss: 0.2835 - accuracy: 0.9199\n",
            "Epoch 4/5\n",
            "1875/1875 [==============================] - 3s 2ms/step - loss: 0.2732 - accuracy: 0.9238\n",
            "Epoch 5/5\n",
            "1875/1875 [==============================] - 3s 2ms/step - loss: 0.2669 - accuracy: 0.9257\n"
          ]
        },
        {
          "output_type": "execute_result",
          "data": {
            "text/plain": [
              "<keras.callbacks.History at 0x7effcae86950>"
            ]
          },
          "metadata": {},
          "execution_count": 13
        }
      ]
    },
    {
      "cell_type": "code",
      "source": [
        "model.evaluate(X_test_flattened, y_test)"
      ],
      "metadata": {
        "colab": {
          "base_uri": "https://localhost:8080/"
        },
        "id": "KB38O24UUi7J",
        "outputId": "24f1d413-4cb2-42ec-8f59-4db6105ee396"
      },
      "execution_count": null,
      "outputs": [
        {
          "output_type": "stream",
          "name": "stdout",
          "text": [
            "313/313 [==============================] - 1s 1ms/step - loss: 0.2717 - accuracy: 0.9248\n"
          ]
        },
        {
          "output_type": "execute_result",
          "data": {
            "text/plain": [
              "[0.271688312292099, 0.9247999787330627]"
            ]
          },
          "metadata": {},
          "execution_count": 14
        }
      ]
    },
    {
      "cell_type": "code",
      "source": [
        "y_predicted = model.predict(X_test_flattened)\n",
        "y_predicted[0]"
      ],
      "metadata": {
        "colab": {
          "base_uri": "https://localhost:8080/"
        },
        "id": "TuT4mIT4U-iO",
        "outputId": "eb102a2b-b228-45ff-b7b1-fb2928e1fc2d"
      },
      "execution_count": null,
      "outputs": [
        {
          "output_type": "stream",
          "name": "stdout",
          "text": [
            "313/313 [==============================] - 0s 1ms/step\n"
          ]
        },
        {
          "output_type": "execute_result",
          "data": {
            "text/plain": [
              "array([2.84013133e-02, 4.70978534e-07, 6.90088049e-02, 9.53206539e-01,\n",
              "       2.60403613e-03, 2.10106865e-01, 1.55415137e-06, 9.99786556e-01,\n",
              "       1.02535814e-01, 7.07985222e-01], dtype=float32)"
            ]
          },
          "metadata": {},
          "execution_count": 15
        }
      ]
    },
    {
      "cell_type": "code",
      "source": [
        "y_pred_classes= [np.argmax(pred) for pred in y_predicted]\n",
        "print(y_pred_classes[:5])\n",
        "print(\"Classification Report: \\n\", classification_report(y_test, y_pred_classes))"
      ],
      "metadata": {
        "colab": {
          "base_uri": "https://localhost:8080/"
        },
        "id": "w7jLCYPwvDA7",
        "outputId": "dfec64af-95d6-4bf3-cce0-1efd822d8067"
      },
      "execution_count": null,
      "outputs": [
        {
          "output_type": "stream",
          "name": "stdout",
          "text": [
            "[7, 2, 1, 0, 4]\n",
            "Classification Report: \n",
            "               precision    recall  f1-score   support\n",
            "\n",
            "           0       0.96      0.98      0.97       980\n",
            "           1       0.97      0.98      0.97      1135\n",
            "           2       0.94      0.89      0.91      1032\n",
            "           3       0.94      0.88      0.91      1010\n",
            "           4       0.92      0.94      0.93       982\n",
            "           5       0.85      0.91      0.88       892\n",
            "           6       0.94      0.95      0.95       958\n",
            "           7       0.93      0.92      0.93      1028\n",
            "           8       0.87      0.89      0.88       974\n",
            "           9       0.91      0.90      0.91      1009\n",
            "\n",
            "    accuracy                           0.92     10000\n",
            "   macro avg       0.92      0.92      0.92     10000\n",
            "weighted avg       0.93      0.92      0.92     10000\n",
            "\n"
          ]
        }
      ]
    },
    {
      "cell_type": "code",
      "source": [
        "plt.matshow(X_test[0])"
      ],
      "metadata": {
        "colab": {
          "base_uri": "https://localhost:8080/",
          "height": 455
        },
        "id": "EL0NgqvyVCWm",
        "outputId": "3ade0767-7f26-4069-ad02-e3cf6ee87c1f"
      },
      "execution_count": null,
      "outputs": [
        {
          "output_type": "execute_result",
          "data": {
            "text/plain": [
              "<matplotlib.image.AxesImage at 0x7effac1251b0>"
            ]
          },
          "metadata": {},
          "execution_count": 17
        },
        {
          "output_type": "display_data",
          "data": {
            "text/plain": [
              "<Figure size 480x480 with 1 Axes>"
            ],
            "image/png": "[encoded data removed]"
          },
          "metadata": {}
        }
      ]
    },
    {
      "cell_type": "code",
      "source": [
        "np.argmax(y_predicted[0])"
      ],
      "metadata": {
        "colab": {
          "base_uri": "https://localhost:8080/"
        },
        "id": "uE5RmBjqVEyQ",
        "outputId": "a8991703-cb3e-499e-93ac-e704aff46d2a"
      },
      "execution_count": null,
      "outputs": [
        {
          "output_type": "execute_result",
          "data": {
            "text/plain": [
              "7"
            ]
          },
          "metadata": {},
          "execution_count": 18
        }
      ]
    },
    {
      "cell_type": "code",
      "source": [
        "y_predicted_labels = [np.argmax(i) for i in y_predicted]"
      ],
      "metadata": {
        "id": "feoNJCqoVHkn"
      },
      "execution_count": null,
      "outputs": []
    },
    {
      "cell_type": "code",
      "source": [
        "y_predicted_labels[:5]"
      ],
      "metadata": {
        "colab": {
          "base_uri": "https://localhost:8080/"
        },
        "id": "AtOOU1UcVKsn",
        "outputId": "1117c4c1-0024-4811-ad61-57eae29fa16c"
      },
      "execution_count": null,
      "outputs": [
        {
          "output_type": "execute_result",
          "data": {
            "text/plain": [
              "[7, 2, 1, 0, 4]"
            ]
          },
          "metadata": {},
          "execution_count": 20
        }
      ]
    },
    {
      "cell_type": "code",
      "source": [
        "cm = tf.math.confusion_matrix(labels=y_test,predictions=y_predicted_labels)\n",
        "cm"
      ],
      "metadata": {
        "colab": {
          "base_uri": "https://localhost:8080/"
        },
        "id": "yfN-dsuLVOAm",
        "outputId": "2e804d83-53d6-4be3-8206-9ab8e8c15d76"
      },
      "execution_count": null,
      "outputs": [
        {
          "output_type": "execute_result",
          "data": {
            "text/plain": [
              "<tf.Tensor: shape=(10, 10), dtype=int32, numpy=\n",
              "array([[ 961,    0,    1,    2,    0,    7,    6,    2,    1,    0],\n",
              "       [   0, 1107,    3,    2,    0,    1,    4,    2,   16,    0],\n",
              "       [   3,    9,  921,   14,   10,    7,   13,   11,   40,    4],\n",
              "       [   3,    0,   17,  887,    0,   55,    3,   13,   26,    6],\n",
              "       [   1,    1,    4,    1,  923,    0,   10,    4,   10,   28],\n",
              "       [   7,    2,    2,   13,   10,  812,   13,    2,   26,    5],\n",
              "       [   8,    3,    4,    0,    8,   15,  913,    2,    5,    0],\n",
              "       [   1,    5,   23,    2,    7,    1,    0,  949,    3,   37],\n",
              "       [   7,    6,    6,   16,    9,   41,    8,   10,  864,    7],\n",
              "       [   8,    7,    2,    7,   34,   11,    0,   23,    6,  911]],\n",
              "      dtype=int32)>"
            ]
          },
          "metadata": {},
          "execution_count": 21
        }
      ]
    },
    {
      "cell_type": "code",
      "source": [
        "import seaborn as sn\n",
        "plt.figure(figsize = (10,7))\n",
        "sn.heatmap(cm, annot=True, fmt='d')\n",
        "plt.xlabel('Predicted')\n",
        "plt.ylabel('Truth')\n"
      ],
      "metadata": {
        "colab": {
          "base_uri": "https://localhost:8080/",
          "height": 637
        },
        "id": "XugMCt7LVRX2",
        "outputId": "e2dcf345-4f42-4838-cd5f-7ba837406045"
      },
      "execution_count": null,
      "outputs": [
        {
          "output_type": "execute_result",
          "data": {
            "text/plain": [
              "Text(95.72222222222221, 0.5, 'Truth')"
            ]
          },
          "metadata": {},
          "execution_count": 22
        },
        {
          "output_type": "display_data",
          "data": {
            "text/plain": [
              "<Figure size 1000x700 with 2 Axes>"
            ],
            "image/png": "[encoded data removed]"
          },
          "metadata": {}
        }
      ]
    },
    {
      "cell_type": "code",
      "source": [
        "model = keras.Sequential([\n",
        "    keras.layers.Dense(100, input_shape=(784,), activation='relu'),\n",
        "    keras.layers.Dense(10, activation='sigmoid')\n",
        "])\n",
        "\n",
        "model.compile(optimizer='adam',\n",
        "              loss='sparse_categorical_crossentropy',\n",
        "              metrics=['accuracy'])\n",
        "\n",
        "model.fit(X_train_flattened, y_train, epochs=5)\n"
      ],
      "metadata": {
        "colab": {
          "base_uri": "https://localhost:8080/"
        },
        "id": "Iykil6CYVVp1",
        "outputId": "c75e80bb-755b-4b83-c81e-6cac4cd91cd1"
      },
      "execution_count": null,
      "outputs": [
        {
          "output_type": "stream",
          "name": "stdout",
          "text": [
            "Epoch 1/5\n",
            "1875/1875 [==============================] - 6s 3ms/step - loss: 0.2729 - accuracy: 0.9219\n",
            "Epoch 2/5\n",
            "1875/1875 [==============================] - 6s 3ms/step - loss: 0.1234 - accuracy: 0.9639\n",
            "Epoch 3/5\n",
            "1875/1875 [==============================] - 6s 3ms/step - loss: 0.0858 - accuracy: 0.9748\n",
            "Epoch 4/5\n",
            "1875/1875 [==============================] - 5s 3ms/step - loss: 0.0637 - accuracy: 0.9807\n",
            "Epoch 5/5\n",
            "1875/1875 [==============================] - 7s 3ms/step - loss: 0.0498 - accuracy: 0.9850\n"
          ]
        },
        {
          "output_type": "execute_result",
          "data": {
            "text/plain": [
              "<keras.callbacks.History at 0x7effa43ebaf0>"
            ]
          },
          "metadata": {},
          "execution_count": 23
        }
      ]
    },
    {
      "cell_type": "code",
      "source": [
        "model.evaluate(X_test_flattened,y_test)"
      ],
      "metadata": {
        "colab": {
          "base_uri": "https://localhost:8080/"
        },
        "id": "nF48t_OaVa_B",
        "outputId": "6f815c1b-5f4b-4c92-98aa-546c223dfdf1"
      },
      "execution_count": null,
      "outputs": [
        {
          "output_type": "stream",
          "name": "stdout",
          "text": [
            "313/313 [==============================] - 1s 2ms/step - loss: 0.0754 - accuracy: 0.9780\n"
          ]
        },
        {
          "output_type": "execute_result",
          "data": {
            "text/plain": [
              "[0.07542350143194199, 0.9779999852180481]"
            ]
          },
          "metadata": {},
          "execution_count": 24
        }
      ]
    },
    {
      "cell_type": "code",
      "source": [
        "y_predicted = model.predict(X_test_flattened)\n",
        "y_pred_classes= [np.argmax(pred) for pred in y_predicted]\n",
        "print(y_pred_classes[:5])\n",
        "print(\"Classification Report: \\n\", classification_report(y_test, y_pred_classes))"
      ],
      "metadata": {
        "colab": {
          "base_uri": "https://localhost:8080/"
        },
        "id": "bKq-tG3NvksV",
        "outputId": "838b5e7a-194b-4483-9bcd-5b6430d0bee9"
      },
      "execution_count": null,
      "outputs": [
        {
          "output_type": "stream",
          "name": "stdout",
          "text": [
            "313/313 [==============================] - 1s 2ms/step\n",
            "[7, 2, 1, 0, 4]\n",
            "Classification Report: \n",
            "               precision    recall  f1-score   support\n",
            "\n",
            "           0       0.98      0.99      0.99       980\n",
            "           1       0.98      0.99      0.99      1135\n",
            "           2       0.97      0.98      0.97      1032\n",
            "           3       0.98      0.97      0.98      1010\n",
            "           4       0.97      0.98      0.98       982\n",
            "           5       0.98      0.98      0.98       892\n",
            "           6       0.99      0.98      0.98       958\n",
            "           7       0.97      0.98      0.98      1028\n",
            "           8       0.98      0.96      0.97       974\n",
            "           9       0.98      0.97      0.97      1009\n",
            "\n",
            "    accuracy                           0.98     10000\n",
            "   macro avg       0.98      0.98      0.98     10000\n",
            "weighted avg       0.98      0.98      0.98     10000\n",
            "\n"
          ]
        }
      ]
    },
    {
      "cell_type": "code",
      "source": [
        "cm = tf.math.confusion_matrix(labels=y_test,predictions=y_predicted_labels)\n",
        "\n",
        "plt.figure(figsize = (10,7))\n",
        "sn.heatmap(cm, annot=True, fmt='d')\n",
        "plt.xlabel('Predicted')\n",
        "plt.ylabel('Truth')\n"
      ],
      "metadata": {
        "colab": {
          "base_uri": "https://localhost:8080/",
          "height": 637
        },
        "id": "mv85ksIAVeVH",
        "outputId": "e1ca777c-04ce-4c75-d279-610a626b2e65"
      },
      "execution_count": null,
      "outputs": [
        {
          "output_type": "execute_result",
          "data": {
            "text/plain": [
              "Text(95.72222222222221, 0.5, 'Truth')"
            ]
          },
          "metadata": {},
          "execution_count": 26
        },
        {
          "output_type": "display_data",
          "data": {
            "text/plain": [
              "<Figure size 1000x700 with 2 Axes>"
            ],
            "image/png": "[encoded data removed]"
          },
          "metadata": {}
        }
      ]
    },
    {
      "cell_type": "markdown",
      "source": [
        "## **ANN**"
      ],
      "metadata": {
        "id": "QlsXWe1ab1Kf"
      }
    },
    {
      "cell_type": "code",
      "source": [
        "ann = keras.Sequential([\n",
        "    keras.layers.Flatten(input_shape=(28, 28)),\n",
        "    keras.layers.Dense(100, activation='relu'),\n",
        "    keras.layers.Dense(10, activation='sigmoid')\n",
        "])\n",
        "\n",
        "ann.compile(optimizer='adam',\n",
        "              loss='sparse_categorical_crossentropy',\n",
        "              metrics=['accuracy'])\n",
        "\n",
        "ann.fit(X_train, y_train, epochs=10)"
      ],
      "metadata": {
        "colab": {
          "base_uri": "https://localhost:8080/"
        },
        "id": "gx7gwL2fVieM",
        "outputId": "ae2a1527-d3f8-4fef-b478-864bdc0f693f"
      },
      "execution_count": null,
      "outputs": [
        {
          "output_type": "stream",
          "name": "stdout",
          "text": [
            "Epoch 1/10\n",
            "1875/1875 [==============================] - 7s 3ms/step - loss: 0.2743 - accuracy: 0.9231\n",
            "Epoch 2/10\n",
            "1875/1875 [==============================] - 5s 3ms/step - loss: 0.1227 - accuracy: 0.9640\n",
            "Epoch 3/10\n",
            "1875/1875 [==============================] - 6s 3ms/step - loss: 0.0856 - accuracy: 0.9746\n",
            "Epoch 4/10\n",
            "1875/1875 [==============================] - 6s 3ms/step - loss: 0.0645 - accuracy: 0.9806\n",
            "Epoch 5/10\n",
            "1875/1875 [==============================] - 5s 3ms/step - loss: 0.0513 - accuracy: 0.9844\n",
            "Epoch 6/10\n",
            "1875/1875 [==============================] - 6s 3ms/step - loss: 0.0411 - accuracy: 0.9875\n",
            "Epoch 7/10\n",
            "1875/1875 [==============================] - 6s 3ms/step - loss: 0.0347 - accuracy: 0.9892\n",
            "Epoch 8/10\n",
            "1875/1875 [==============================] - 7s 4ms/step - loss: 0.0275 - accuracy: 0.9915\n",
            "Epoch 9/10\n",
            "1875/1875 [==============================] - 5s 3ms/step - loss: 0.0231 - accuracy: 0.9933\n",
            "Epoch 10/10\n",
            "1875/1875 [==============================] - 6s 3ms/step - loss: 0.0190 - accuracy: 0.9939\n"
          ]
        },
        {
          "output_type": "execute_result",
          "data": {
            "text/plain": [
              "<keras.callbacks.History at 0x7effcac98580>"
            ]
          },
          "metadata": {},
          "execution_count": 27
        }
      ]
    },
    {
      "cell_type": "code",
      "source": [
        "ann.evaluate(X_test,y_test)"
      ],
      "metadata": {
        "colab": {
          "base_uri": "https://localhost:8080/"
        },
        "id": "ZtqS6imJVn8o",
        "outputId": "2ad6a2ee-4d81-4de3-f41e-5adf1b8b990a"
      },
      "execution_count": null,
      "outputs": [
        {
          "output_type": "stream",
          "name": "stdout",
          "text": [
            "313/313 [==============================] - 1s 2ms/step - loss: 0.0682 - accuracy: 0.9802\n"
          ]
        },
        {
          "output_type": "execute_result",
          "data": {
            "text/plain": [
              "[0.06817138940095901, 0.9801999926567078]"
            ]
          },
          "metadata": {},
          "execution_count": 28
        }
      ]
    },
    {
      "cell_type": "code",
      "source": [
        "y_predicted = ann.predict(X_test)\n",
        "y_pred_classes= [np.argmax(pred) for pred in y_predicted]\n",
        "print(y_pred_classes[:5])\n",
        "print(\"Classification Report: \\n\", classification_report(y_test, y_pred_classes))"
      ],
      "metadata": {
        "colab": {
          "base_uri": "https://localhost:8080/"
        },
        "id": "Ayh3KYAywT_C",
        "outputId": "2fb0712c-ebf5-43d9-aae1-636e2142ed4a"
      },
      "execution_count": null,
      "outputs": [
        {
          "output_type": "stream",
          "name": "stdout",
          "text": [
            "313/313 [==============================] - 1s 2ms/step\n",
            "[7, 2, 1, 0, 4]\n",
            "Classification Report: \n",
            "               precision    recall  f1-score   support\n",
            "\n",
            "           0       0.99      0.99      0.99       980\n",
            "           1       0.99      0.99      0.99      1135\n",
            "           2       0.97      0.98      0.98      1032\n",
            "           3       0.98      0.97      0.97      1010\n",
            "           4       0.99      0.98      0.98       982\n",
            "           5       0.99      0.96      0.97       892\n",
            "           6       0.98      0.99      0.98       958\n",
            "           7       0.98      0.99      0.98      1028\n",
            "           8       0.97      0.98      0.97       974\n",
            "           9       0.97      0.98      0.98      1009\n",
            "\n",
            "    accuracy                           0.98     10000\n",
            "   macro avg       0.98      0.98      0.98     10000\n",
            "weighted avg       0.98      0.98      0.98     10000\n",
            "\n"
          ]
        }
      ]
    },
    {
      "cell_type": "markdown",
      "source": [
        "## <font color= \"blue\"><b>\n",
        "Using Flatten layer so that we don't have to call .reshape on input dataset\n",
        "<b></font>"
      ],
      "metadata": {
        "id": "F0Ppa33JtfH2"
      }
    },
    {
      "cell_type": "code",
      "source": [
        "modelflatten = keras.Sequential([\n",
        "    keras.layers.Flatten(input_shape=(28, 28)),\n",
        "    keras.layers.Dense(100, activation='relu'),\n",
        "    keras.layers.Dense(10, activation='sigmoid')\n",
        "])\n",
        "\n",
        "modelflatten.compile(optimizer='adam',\n",
        "              loss='sparse_categorical_crossentropy',\n",
        "              metrics=['accuracy'])\n",
        "\n",
        "tb_callback = tf.keras.callbacks.TensorBoard(log_dir=\"logs/\", histogram_freq=1)\n",
        "\n",
        "modelflatten.fit(X_train, y_train, epochs=5, callbacks=[tb_callback])"
      ],
      "metadata": {
        "colab": {
          "base_uri": "https://localhost:8080/"
        },
        "id": "Jo1-Joa1teIE",
        "outputId": "b23b4dc4-f3f3-4977-8f89-725e9f2a3005"
      },
      "execution_count": null,
      "outputs": [
        {
          "output_type": "stream",
          "name": "stdout",
          "text": [
            "Epoch 1/5\n",
            "1875/1875 [==============================] - 7s 4ms/step - loss: 0.2721 - accuracy: 0.9230\n",
            "Epoch 2/5\n",
            "1875/1875 [==============================] - 6s 3ms/step - loss: 0.1208 - accuracy: 0.9646\n",
            "Epoch 3/5\n",
            "1875/1875 [==============================] - 7s 3ms/step - loss: 0.0846 - accuracy: 0.9754\n",
            "Epoch 4/5\n",
            "1875/1875 [==============================] - 6s 3ms/step - loss: 0.0656 - accuracy: 0.9802\n",
            "Epoch 5/5\n",
            "1875/1875 [==============================] - 6s 3ms/step - loss: 0.0519 - accuracy: 0.9837\n"
          ]
        },
        {
          "output_type": "execute_result",
          "data": {
            "text/plain": [
              "<keras.callbacks.History at 0x7effa44d4790>"
            ]
          },
          "metadata": {},
          "execution_count": 30
        }
      ]
    },
    {
      "cell_type": "code",
      "source": [
        "# %load_ext tensorboard\n",
        "# %tensorboard --logdir logs/fit"
      ],
      "metadata": {
        "id": "_1y2t6vJufrI"
      },
      "execution_count": null,
      "outputs": []
    },
    {
      "cell_type": "code",
      "source": [
        "modelflatten.get_weights()"
      ],
      "metadata": {
        "colab": {
          "base_uri": "https://localhost:8080/"
        },
        "id": "GFl-YOzox90f",
        "outputId": "553f1a14-b915-4aa6-a6ab-30c067570b25"
      },
      "execution_count": null,
      "outputs": [
        {
          "output_type": "execute_result",
          "data": {
            "text/plain": [
              "[array([[-0.03742693,  0.00093585, -0.05528617, ...,  0.01970434,\n",
              "         -0.0407727 , -0.08186812],\n",
              "        [-0.00225209,  0.04990257, -0.01645048, ..., -0.00814474,\n",
              "         -0.07852561, -0.03105566],\n",
              "        [ 0.06060953,  0.05164979,  0.02308272, ..., -0.05016578,\n",
              "         -0.01960089, -0.00958636],\n",
              "        ...,\n",
              "        [ 0.00737136, -0.07772006, -0.07231963, ..., -0.07390608,\n",
              "          0.07714486,  0.04941644],\n",
              "        [-0.01235874, -0.06299083, -0.00085347, ...,  0.04903844,\n",
              "         -0.03074201,  0.03943096],\n",
              "        [-0.01773184, -0.06149808, -0.0739608 , ...,  0.0624814 ,\n",
              "         -0.04204315, -0.07190205]], dtype=float32),\n",
              " array([-0.05133862,  0.12927376,  0.05023883,  0.17652075, -0.02792467,\n",
              "        -0.10552094,  0.0138765 ,  0.07478806,  0.15338229,  0.00889415,\n",
              "         0.00715278,  0.18179503,  0.01623652, -0.09310847,  0.081903  ,\n",
              "         0.01249267, -0.01165429,  0.04575551, -0.0436112 , -0.10899087,\n",
              "        -0.07723604, -0.07734407, -0.12975901, -0.02834013,  0.06581376,\n",
              "         0.05726504,  0.07080334, -0.00097253,  0.04220974,  0.17696185,\n",
              "        -0.04077997, -0.03313604,  0.01300173, -0.11883996, -0.04056264,\n",
              "         0.04691426, -0.02353278,  0.03636646,  0.01824176, -0.01432068,\n",
              "         0.15887956,  0.00651984, -0.02405288,  0.20015523,  0.23989333,\n",
              "         0.00518352,  0.00116167, -0.14753398, -0.02413034,  0.02913586,\n",
              "        -0.02667091,  0.13922994,  0.06830094,  0.11667582,  0.05682844,\n",
              "         0.06092058,  0.00778228, -0.02589356, -0.065551  ,  0.00791264,\n",
              "         0.05273501, -0.02096605, -0.08788639, -0.04789172, -0.03883685,\n",
              "        -0.00728931,  0.06701485, -0.00222084,  0.02127432,  0.08967466,\n",
              "        -0.02601525,  0.02631412, -0.07106731,  0.07384819,  0.0920532 ,\n",
              "        -0.12010438,  0.1309627 ,  0.09902   , -0.00472081,  0.07428153,\n",
              "         0.06518718, -0.03814312,  0.07821161,  0.14239843,  0.03050394,\n",
              "         0.06712701,  0.02784838, -0.02861993, -0.02650121,  0.10545757,\n",
              "         0.06692047,  0.14129893,  0.12639888,  0.02559143, -0.05139368,\n",
              "         0.13277975,  0.0728903 ,  0.07411882,  0.00603237,  0.10483401],\n",
              "       dtype=float32),\n",
              " array([[ 2.11590216e-01, -3.32881004e-01,  1.50840476e-01,\n",
              "          1.39916465e-01, -9.63578522e-01,  1.85493648e-01,\n",
              "         -8.77781026e-03, -5.08071668e-02,  8.87376964e-02,\n",
              "         -3.19468901e-02],\n",
              "        [-1.07366867e-01, -7.20382512e-01, -2.68334448e-01,\n",
              "         -3.34240317e-01,  1.18969582e-01,  3.24520409e-01,\n",
              "          1.19126484e-01,  4.92998548e-02,  2.19314605e-01,\n",
              "          2.08918899e-01],\n",
              "        [ 6.82443306e-02,  1.05813533e-01,  1.56629384e-01,\n",
              "         -1.57499989e-03, -7.93304369e-02,  3.39262858e-02,\n",
              "         -3.18616062e-01, -1.95728183e-01, -1.95826348e-02,\n",
              "         -3.29389781e-01],\n",
              "        [-6.09341621e-01, -1.37136236e-01,  1.06812023e-01,\n",
              "         -3.34533185e-01,  1.95861369e-01, -9.07063931e-02,\n",
              "         -6.46241844e-01,  3.05341184e-01, -2.94971466e-01,\n",
              "          1.58497493e-03],\n",
              "        [-2.26466060e-01, -4.56632286e-01, -2.47774795e-02,\n",
              "          3.56741756e-01, -2.96161145e-01, -4.88719255e-01,\n",
              "         -4.49037999e-02,  2.05484152e-01, -1.88598856e-01,\n",
              "          2.20792085e-01],\n",
              "        [-3.66371930e-01,  7.57029429e-02, -3.69532108e-01,\n",
              "          2.41131470e-01,  1.87974453e-01, -6.31982386e-01,\n",
              "         -3.01931918e-01, -2.56885558e-01, -7.40616843e-02,\n",
              "          1.49977133e-01],\n",
              "        [ 3.34930986e-01,  2.07516477e-01,  2.40515754e-01,\n",
              "          1.65960342e-01, -4.42945361e-01,  1.73679098e-01,\n",
              "         -1.22839846e-01,  7.40971463e-03, -1.75350279e-01,\n",
              "         -5.69668710e-01],\n",
              "        [-4.79812890e-01,  1.45297095e-01,  5.19377850e-02,\n",
              "         -1.64040327e-01,  1.37134895e-01, -4.41063941e-01,\n",
              "         -6.79250479e-01,  2.58232683e-01, -3.64449382e-01,\n",
              "          2.68766582e-02],\n",
              "        [-2.22073078e-01,  2.75438368e-01,  2.59403586e-01,\n",
              "         -1.81456938e-01, -1.69251189e-01,  1.71135113e-01,\n",
              "          1.55306444e-01, -8.40704292e-02,  1.39083967e-01,\n",
              "         -3.77431661e-01],\n",
              "        [ 2.79499322e-01, -1.88912392e-01,  2.23971784e-01,\n",
              "         -1.36953607e-01, -1.44103393e-01, -1.35725409e-01,\n",
              "         -1.33895576e-01,  8.43237489e-02, -5.60475051e-01,\n",
              "         -5.00533916e-03],\n",
              "        [-1.48497545e-03, -1.40192658e-01,  1.43593758e-01,\n",
              "          4.55408722e-01,  7.70900538e-03, -4.29143012e-01,\n",
              "         -6.30665243e-01, -9.75192636e-02,  2.40976065e-02,\n",
              "          2.99607128e-01],\n",
              "        [ 1.43364966e-01,  4.21563864e-01, -2.18144238e-01,\n",
              "          1.20169193e-01,  4.12062779e-02, -2.32876055e-02,\n",
              "          2.08565846e-01,  4.56030488e-01, -5.29364705e-01,\n",
              "         -5.94109356e-01],\n",
              "        [-4.76657331e-01,  1.51636861e-02, -4.84552234e-01,\n",
              "          2.93672621e-01, -2.41168573e-01,  4.58000124e-01,\n",
              "          1.73830271e-01, -6.31314218e-01, -2.68358648e-01,\n",
              "         -1.26618063e-02],\n",
              "        [-9.84253883e-02,  1.60360545e-01, -1.77405566e-01,\n",
              "          4.88092005e-02, -1.50723204e-01, -3.66640866e-01,\n",
              "         -5.30473292e-01,  2.00500920e-01,  4.98268940e-02,\n",
              "          2.27872863e-01],\n",
              "        [-2.00893462e-01, -3.51504982e-01,  1.43875152e-01,\n",
              "         -3.32625955e-01,  3.85083199e-01, -1.98085681e-01,\n",
              "         -1.96938425e-01,  1.41926020e-01,  1.15061484e-01,\n",
              "         -2.96235770e-01],\n",
              "        [-1.24592960e-01,  1.08035438e-01,  2.88293839e-01,\n",
              "          1.03085086e-01,  2.64984190e-01, -5.11265874e-01,\n",
              "          1.99369714e-02,  1.27669886e-01, -3.36419314e-01,\n",
              "         -4.15320128e-01],\n",
              "        [ 1.41839951e-01, -1.37094066e-01, -2.54030854e-01,\n",
              "          2.86291447e-02, -1.10676005e-01, -3.68587598e-02,\n",
              "         -1.56177744e-01,  1.31911606e-01,  1.76178992e-01,\n",
              "          1.82385653e-01],\n",
              "        [ 3.13426077e-01, -4.21439886e-01, -1.78022198e-02,\n",
              "         -2.97132879e-01,  7.56314918e-02, -1.58595741e-01,\n",
              "         -3.04492097e-03,  2.19966263e-01, -7.04139054e-01,\n",
              "          6.37058988e-02],\n",
              "        [ 1.31768644e-01, -3.22566405e-02,  2.42239535e-01,\n",
              "          5.62606789e-02,  3.56054336e-01, -4.79002483e-02,\n",
              "          1.47130981e-01, -5.45807779e-01, -4.39146787e-01,\n",
              "          2.62657851e-01],\n",
              "        [-9.69019756e-02,  9.55307037e-02,  1.05494604e-01,\n",
              "          1.10154197e-01, -6.09776452e-02, -3.98593485e-01,\n",
              "          6.32311329e-02, -2.33194903e-01,  1.81566849e-01,\n",
              "          5.93175255e-02],\n",
              "        [-2.32187682e-03,  1.78527951e-01, -5.53628579e-02,\n",
              "         -1.91267263e-02, -4.09280896e-01, -2.27162436e-01,\n",
              "          1.94392875e-01, -6.68100491e-02, -5.11460081e-02,\n",
              "          5.07417433e-02],\n",
              "        [ 3.20760429e-01, -4.85158712e-01, -1.57280099e-02,\n",
              "          2.96167582e-01, -2.23885290e-02, -6.08967245e-02,\n",
              "          1.97331738e-02,  7.82654360e-02, -1.75848261e-01,\n",
              "         -1.18814424e-01],\n",
              "        [ 1.81411818e-01, -1.21537253e-01, -1.47989728e-02,\n",
              "         -8.53766799e-02, -1.59573570e-01, -3.81492704e-01,\n",
              "         -5.41587532e-01,  2.42124833e-02, -1.22943446e-01,\n",
              "          1.49847925e-01],\n",
              "        [-2.17313066e-01, -1.69896394e-01,  2.26712860e-02,\n",
              "          5.53253256e-02, -3.34772877e-02, -2.20822573e-01,\n",
              "         -8.73515457e-02, -2.16665044e-01,  1.02125786e-01,\n",
              "         -3.88007797e-02],\n",
              "        [-2.66344041e-01, -3.43175441e-01,  1.11175030e-01,\n",
              "         -3.51480901e-01,  4.51166272e-01,  4.13555145e-01,\n",
              "         -9.98203233e-02,  9.85843688e-02,  4.82762069e-01,\n",
              "         -3.69744003e-01],\n",
              "        [ 1.97294250e-01, -6.61959350e-01,  1.07403854e-02,\n",
              "         -4.01409388e-01,  1.12011075e-01, -6.43568039e-01,\n",
              "         -4.54920739e-01,  5.58748603e-01, -1.93659052e-01,\n",
              "          5.06485924e-02],\n",
              "        [ 2.46142596e-01,  1.73835665e-01, -1.94407955e-01,\n",
              "          1.43735737e-01, -6.38075471e-01,  2.59844512e-01,\n",
              "         -1.13705367e-01,  1.13118455e-01, -4.70116809e-02,\n",
              "          1.27718538e-01],\n",
              "        [-6.00825369e-01,  8.81899819e-02,  6.12911522e-01,\n",
              "         -2.27040380e-01, -2.04138026e-01, -5.29170811e-01,\n",
              "         -3.78495157e-01,  3.85870337e-01,  3.42697859e-01,\n",
              "         -6.59610569e-01],\n",
              "        [-3.21469121e-02,  2.54833370e-01, -2.90842324e-01,\n",
              "         -5.27495980e-01,  1.70159414e-01, -5.26599646e-01,\n",
              "         -1.01153940e-01, -1.28229007e-01, -3.44981194e-01,\n",
              "          4.36435908e-01],\n",
              "        [-1.51860967e-01, -9.43425149e-02, -1.70665935e-01,\n",
              "         -3.72878700e-01, -5.86645365e-01,  6.53992176e-01,\n",
              "         -2.20730186e-01,  3.08566183e-01,  1.99325278e-01,\n",
              "         -6.22715652e-02],\n",
              "        [ 9.79376510e-02,  1.94506183e-01, -9.10536200e-02,\n",
              "         -3.36085021e-01, -8.99530128e-02, -1.11594327e-01,\n",
              "          1.36044040e-01, -4.31461483e-01,  1.29937798e-01,\n",
              "          3.66264172e-02],\n",
              "        [-3.93486857e-01,  1.06290452e-01,  4.47704047e-01,\n",
              "          3.67842913e-01, -6.49637043e-01, -2.43129328e-01,\n",
              "         -8.11825931e-01,  4.20080423e-01, -6.10195339e-01,\n",
              "         -4.80255276e-01],\n",
              "        [ 6.63743764e-02, -5.68919003e-01, -9.89279971e-02,\n",
              "          2.58018523e-01,  1.65246129e-01, -1.38382360e-01,\n",
              "          2.13431388e-01,  1.72592595e-01,  9.87408385e-02,\n",
              "          1.15091555e-01],\n",
              "        [-6.79686293e-02, -2.51693398e-01,  2.94928908e-01,\n",
              "          1.36692166e-01, -5.39767206e-01, -3.54655683e-02,\n",
              "         -5.91028214e-01,  2.20310792e-01,  8.24156851e-02,\n",
              "          2.70181391e-02],\n",
              "        [ 1.82576016e-01, -7.04489872e-02,  2.15641290e-01,\n",
              "         -3.02735209e-01,  1.35070262e-02, -3.61452371e-01,\n",
              "          1.20559566e-01, -1.74905658e-01,  1.38739645e-01,\n",
              "          1.54575065e-01],\n",
              "        [-3.32566015e-02,  7.05008060e-02, -1.41842946e-01,\n",
              "         -3.19312781e-01,  4.83004823e-02, -4.14705455e-01,\n",
              "          3.37979108e-01,  2.17898004e-02,  8.01773146e-02,\n",
              "         -8.26542526e-02],\n",
              "        [ 2.54690170e-01, -4.90544587e-02, -1.19943120e-01,\n",
              "         -3.67042214e-01,  2.16004819e-01, -7.59729072e-02,\n",
              "          1.53509557e-01, -4.92649414e-02, -2.02755257e-01,\n",
              "          4.43111695e-02],\n",
              "        [-4.56219047e-01, -7.07564428e-02, -1.42116338e-01,\n",
              "         -2.61923015e-01,  2.35191211e-01, -8.97269249e-02,\n",
              "         -1.72605991e-01, -6.59935698e-02,  1.75478503e-01,\n",
              "          1.44132480e-01],\n",
              "        [-4.32440162e-01,  5.23097396e-01,  3.05196553e-01,\n",
              "          3.00874889e-01, -5.36349416e-02,  4.81240079e-02,\n",
              "         -7.07063437e-01,  3.22279334e-01, -4.31202203e-01,\n",
              "         -4.21259254e-02],\n",
              "        [ 5.48777878e-01, -6.01309717e-01,  8.36676210e-02,\n",
              "         -1.49753317e-01, -6.40619993e-01, -3.47579867e-01,\n",
              "          3.00237834e-01, -2.56970644e-01, -4.08719294e-02,\n",
              "          5.45649715e-02],\n",
              "        [-4.67977598e-02,  4.76790994e-01, -6.53856933e-01,\n",
              "         -4.14085239e-02, -9.56960991e-02,  2.60546625e-01,\n",
              "          1.22464389e-01,  4.36028749e-01, -2.91040987e-01,\n",
              "          1.34346485e-01],\n",
              "        [-2.86357373e-01,  2.16639981e-01,  1.60461575e-01,\n",
              "          2.69868016e-01, -7.33130649e-02,  1.52666271e-01,\n",
              "          9.08344090e-02,  1.57974139e-01,  2.42988512e-01,\n",
              "         -5.24907172e-01],\n",
              "        [ 1.56784341e-01, -1.44943386e-01, -6.02167360e-02,\n",
              "         -2.48427480e-01,  4.08567578e-01, -3.37592900e-01,\n",
              "          1.28794163e-01,  2.34159574e-01,  1.16527546e-02,\n",
              "         -3.42872709e-01],\n",
              "        [-2.11180542e-02,  4.61468659e-03,  2.81187654e-01,\n",
              "          6.22190721e-03,  1.30253015e-02,  3.68801892e-01,\n",
              "         -3.96064609e-01, -3.90078247e-01, -6.58238947e-01,\n",
              "          3.11916500e-01],\n",
              "        [-4.30771033e-04, -1.69067338e-01, -7.11443186e-01,\n",
              "         -2.65310407e-01, -7.89056569e-02,  4.10709500e-01,\n",
              "          8.12448785e-02, -2.79534236e-02,  2.60987312e-01,\n",
              "          1.89122707e-01],\n",
              "        [-2.45494351e-01,  2.91574579e-02,  1.61474109e-01,\n",
              "          2.44777292e-01,  2.84223128e-02, -1.12583354e-01,\n",
              "         -5.69100454e-02, -3.00485939e-01,  2.15926588e-01,\n",
              "         -1.12259619e-01],\n",
              "        [-6.42095447e-01, -1.07415151e-02, -5.44391572e-01,\n",
              "         -1.63142502e-01, -4.76489544e-01,  4.47939903e-01,\n",
              "          9.30671617e-02,  3.35469186e-01, -6.49600103e-02,\n",
              "          1.66000739e-01],\n",
              "        [-1.06500253e-01,  3.09968945e-02,  2.12188184e-01,\n",
              "          2.45594367e-01, -1.83157057e-01, -7.20815808e-02,\n",
              "         -5.03934801e-01, -1.02661178e-01,  2.35702410e-01,\n",
              "          1.37341872e-01],\n",
              "        [ 1.08061314e-01, -5.84755242e-01,  4.41352241e-02,\n",
              "          9.68346596e-02, -2.32641865e-02, -1.24906801e-01,\n",
              "         -3.36688101e-01, -1.03170867e-03, -2.47007117e-01,\n",
              "          2.80550748e-01],\n",
              "        [ 1.35419473e-01, -1.95577607e-01,  1.26850545e-01,\n",
              "         -1.36167705e-01, -1.27760433e-02, -1.79706201e-01,\n",
              "         -1.03614675e-02, -8.61358866e-02,  1.80682451e-01,\n",
              "         -1.40118003e-01],\n",
              "        [-2.94557571e-01,  1.50625199e-01, -8.54482204e-02,\n",
              "          7.13948160e-02, -1.17575966e-01, -2.73019105e-01,\n",
              "         -5.36039650e-01,  2.12546259e-01,  1.38945609e-01,\n",
              "          4.90500890e-02],\n",
              "        [ 6.70179054e-02,  1.58871904e-01,  2.17674449e-01,\n",
              "          1.70658320e-01,  4.95834351e-01,  2.80996352e-01,\n",
              "         -2.61209816e-01,  1.88632861e-01, -2.56105125e-01,\n",
              "         -8.07116866e-01],\n",
              "        [-1.54763475e-01, -4.64254677e-01, -6.73924088e-02,\n",
              "          2.39960864e-01, -3.12364823e-03,  2.08092600e-01,\n",
              "          1.78334221e-01, -4.73942786e-01,  6.03591204e-02,\n",
              "         -1.86608940e-01],\n",
              "        [-3.40139508e-01,  1.49520244e-02, -3.58614683e-01,\n",
              "          9.03922617e-02,  8.82313177e-02,  2.68421710e-01,\n",
              "         -7.16453075e-01,  1.19187236e-01, -4.05762285e-01,\n",
              "          1.46216020e-01],\n",
              "        [-4.09008265e-01,  4.04810123e-02, -4.48817730e-01,\n",
              "          2.22179100e-01,  3.69357526e-01,  2.72488773e-01,\n",
              "          2.65067607e-01,  1.40233770e-01,  1.69094037e-02,\n",
              "         -4.03942823e-01],\n",
              "        [ 2.91497499e-01, -2.93950826e-01,  1.91634521e-01,\n",
              "          2.79946141e-02, -3.82735133e-01,  1.20522857e-01,\n",
              "          2.79112309e-01, -2.38392264e-01,  1.61280930e-01,\n",
              "         -2.01585796e-02],\n",
              "        [ 1.44665152e-01, -2.51569092e-01, -6.55765459e-02,\n",
              "         -6.17424957e-02,  1.73997015e-01, -1.60058439e-02,\n",
              "         -1.44431531e-01, -2.93969035e-01,  1.07131593e-01,\n",
              "          1.07539603e-02],\n",
              "        [-4.94674861e-01, -4.51425970e-01,  4.59522307e-01,\n",
              "          3.64021659e-01, -3.84654969e-01,  1.53957099e-01,\n",
              "         -1.04815446e-01,  7.11338878e-01, -4.87533122e-01,\n",
              "         -7.80505896e-01],\n",
              "        [-2.57721573e-01, -2.10015010e-03, -4.84956443e-01,\n",
              "          3.60815734e-01, -3.04948568e-01,  7.31889531e-02,\n",
              "          1.56376045e-03, -4.85603154e-01, -2.36886621e-01,\n",
              "          4.64040693e-03],\n",
              "        [-4.55810577e-02,  7.26328865e-02, -1.00325406e-01,\n",
              "          9.93072167e-02,  2.17428297e-01, -5.48923090e-02,\n",
              "          2.27801874e-01, -2.20685318e-01,  2.16380939e-01,\n",
              "          5.06105945e-02],\n",
              "        [-7.62541473e-01, -4.82663661e-01, -4.46410656e-01,\n",
              "          5.44603527e-01, -8.10917839e-02,  3.88668954e-01,\n",
              "         -8.75545382e-01, -6.29378855e-02, -6.04985178e-01,\n",
              "          2.87044078e-01],\n",
              "        [-4.93082225e-01,  2.22775295e-01, -4.62484360e-01,\n",
              "         -1.74396615e-02,  2.63833731e-01, -5.46028197e-01,\n",
              "          3.49422663e-01,  4.02740017e-02, -8.72352123e-02,\n",
              "          2.67599910e-01],\n",
              "        [ 2.97905989e-02,  3.13904196e-01,  2.11879447e-01,\n",
              "          5.87379709e-02,  3.16488385e-01, -4.72851127e-01,\n",
              "          6.97337314e-02,  1.70163125e-01, -6.12445222e-03,\n",
              "         -6.01056933e-01],\n",
              "        [-1.82376117e-01, -1.95806444e-01, -2.68248081e-01,\n",
              "          1.40180394e-01, -2.50268608e-01,  2.40386367e-01,\n",
              "          1.18250703e-03,  3.62402387e-02,  2.62297034e-01,\n",
              "          2.48809338e-01],\n",
              "        [-1.60282433e-01,  2.29846880e-01,  1.51578838e-03,\n",
              "          3.61037940e-01, -1.09068669e-01,  4.04439777e-01,\n",
              "         -7.38304913e-01, -5.46620727e-01, -3.49560618e-01,\n",
              "          9.56673995e-02],\n",
              "        [ 2.47576356e-01, -2.17324629e-01,  3.26183259e-01,\n",
              "         -1.74665093e-01, -3.34160298e-01, -2.70660400e-01,\n",
              "         -8.16609338e-02, -1.70633063e-01,  2.26533741e-01,\n",
              "          1.98008403e-01],\n",
              "        [-5.06190419e-01,  6.84824139e-02,  1.03811428e-01,\n",
              "         -6.63934052e-01,  3.73400301e-02,  3.28329176e-01,\n",
              "          5.24424732e-01,  1.95702925e-01, -5.71135163e-01,\n",
              "          4.73026097e-01],\n",
              "        [ 1.30035952e-01, -5.31088054e-01, -1.42244399e-01,\n",
              "          1.88112557e-02, -4.67211515e-01,  2.15105519e-01,\n",
              "          2.62199581e-01, -4.42506105e-01,  3.46649857e-03,\n",
              "          1.20467357e-01],\n",
              "        [ 2.09297657e-01,  2.38050535e-01,  5.29347360e-02,\n",
              "         -4.10926372e-01, -1.38514921e-01, -3.40228230e-01,\n",
              "          1.63426667e-01, -1.78815737e-01,  2.15900943e-01,\n",
              "         -6.25366807e-01],\n",
              "        [-3.16837907e-01, -2.23165587e-01,  5.53312182e-01,\n",
              "         -1.60017654e-01, -3.83433789e-01,  1.02256447e-01,\n",
              "         -4.90684628e-01, -8.43323469e-02,  1.73277199e-01,\n",
              "         -8.69544864e-01],\n",
              "        [-1.64277300e-01,  1.18971346e-02, -5.36007546e-02,\n",
              "         -7.56570920e-02, -1.83759525e-01, -1.67350888e-01,\n",
              "         -3.39709222e-01, -1.76411346e-01,  1.51178747e-01,\n",
              "          4.20871601e-02],\n",
              "        [-3.44606131e-01,  1.21799752e-01,  2.61289835e-01,\n",
              "         -2.31736884e-01,  1.64540976e-01, -1.82087302e-01,\n",
              "          2.74727941e-01, -3.66610885e-01,  1.42604709e-01,\n",
              "          8.31423402e-02],\n",
              "        [-3.34015071e-01, -1.45953456e-02,  2.96373200e-02,\n",
              "          1.23661794e-02, -6.32504970e-02, -3.00103724e-01,\n",
              "          1.38424328e-02, -1.04369484e-01,  1.69629268e-02,\n",
              "          2.73715761e-02],\n",
              "        [-2.63711900e-01, -4.80731636e-01,  2.11104468e-01,\n",
              "          2.29419053e-01,  4.66001295e-02,  2.17574954e-01,\n",
              "          1.98559210e-01,  8.44777897e-02,  1.89546078e-01,\n",
              "          1.92938760e-01],\n",
              "        [-2.08848387e-01,  1.55690730e-01,  1.41136095e-01,\n",
              "         -5.18785417e-01, -3.01315367e-01,  8.41825679e-02,\n",
              "          3.95285636e-01,  2.28952989e-01,  1.58364147e-01,\n",
              "         -4.23282266e-01],\n",
              "        [-1.09113641e-02, -4.40439247e-02,  2.89678007e-01,\n",
              "          3.11738461e-01, -3.98943461e-02,  2.03857467e-01,\n",
              "         -3.86407413e-02,  3.84094149e-01,  1.27159096e-02,\n",
              "         -6.43233836e-01],\n",
              "        [-4.34828587e-02, -1.10175207e-01, -7.63962686e-01,\n",
              "         -4.59449708e-01,  2.68683434e-01,  2.13266447e-01,\n",
              "          2.29707614e-01, -2.05735564e-01,  1.10417672e-01,\n",
              "         -1.65411323e-01],\n",
              "        [-1.18091770e-01, -5.49736679e-01, -5.98111153e-02,\n",
              "          5.20828813e-02,  3.54726724e-02,  8.45588744e-02,\n",
              "         -2.88323432e-01,  2.00893119e-01,  2.17010379e-01,\n",
              "          4.08553192e-03],\n",
              "        [ 9.98615026e-02,  9.47216377e-02, -7.10243344e-01,\n",
              "          2.49983564e-01,  1.56441584e-01,  3.38875353e-01,\n",
              "         -3.69265862e-02, -4.50089544e-01,  2.74514794e-01,\n",
              "          1.63585156e-01],\n",
              "        [-6.96611702e-01,  2.31936621e-03,  2.92001247e-01,\n",
              "         -2.53959328e-01, -4.17819858e-01,  3.63627613e-01,\n",
              "          5.30612394e-02, -8.88015479e-02, -1.11853361e-01,\n",
              "          1.42779335e-01],\n",
              "        [ 2.59855509e-01,  3.87990415e-01,  2.06006784e-02,\n",
              "         -2.13107452e-01, -4.57040727e-01,  2.07147434e-01,\n",
              "          1.29694805e-01, -1.15763314e-01, -4.51160401e-01,\n",
              "         -2.42490917e-01],\n",
              "        [ 1.29812837e-01, -3.55081081e-01, -1.81825295e-01,\n",
              "          2.08680928e-01, -4.29288521e-02,  5.09231538e-02,\n",
              "         -5.09989262e-01,  1.90826431e-01,  9.81059372e-02,\n",
              "          2.61070520e-01],\n",
              "        [-1.55613780e-01,  8.34807083e-02,  2.15158239e-01,\n",
              "         -5.20562232e-01,  1.51536047e-01, -3.24905455e-01,\n",
              "         -1.68037385e-01, -1.94127522e-02, -9.14577246e-02,\n",
              "          2.81314492e-01],\n",
              "        [ 2.07963228e-01,  2.51122236e-01, -4.67487663e-01,\n",
              "         -4.01305765e-01,  2.15991810e-01,  2.98259139e-01,\n",
              "          2.32752711e-01,  9.68848728e-03, -4.54698443e-01,\n",
              "          2.84360886e-01],\n",
              "        [ 1.60398766e-01, -4.01185960e-01, -1.78696170e-01,\n",
              "          4.51107956e-02,  1.31019160e-01,  4.26078215e-02,\n",
              "          5.88199720e-02, -2.36023068e-01,  1.98256969e-01,\n",
              "          4.57987785e-02],\n",
              "        [-4.29081649e-01,  2.69452304e-01, -3.15796554e-01,\n",
              "          1.61541253e-01, -9.54297837e-03,  3.64702165e-01,\n",
              "         -2.62579411e-01, -6.11016631e-01,  9.04935226e-02,\n",
              "         -8.10876191e-02],\n",
              "        [-1.30338579e-01,  2.16283962e-01,  2.01064378e-01,\n",
              "          1.16706304e-02,  3.08085531e-01, -9.64711666e-01,\n",
              "         -6.18981600e-01,  1.15420610e-01, -2.37021148e-01,\n",
              "         -1.88609987e-01],\n",
              "        [ 1.41388133e-01,  3.25958356e-02, -2.13632695e-02,\n",
              "          1.28586918e-01, -1.82564110e-01,  5.67330159e-02,\n",
              "          2.55577527e-02, -1.50245622e-01,  8.71067345e-02,\n",
              "         -2.51825899e-01],\n",
              "        [ 8.57580919e-03,  1.92022726e-01,  5.61872065e-01,\n",
              "         -4.11242247e-01, -2.27315396e-01, -2.41143584e-01,\n",
              "         -4.64123279e-01, -4.58234161e-01, -5.97426116e-01,\n",
              "          2.28008151e-01],\n",
              "        [-3.73279192e-02, -3.79932225e-01,  2.31983513e-01,\n",
              "         -1.42408416e-01, -3.65429044e-01,  3.52221727e-01,\n",
              "         -5.79682112e-01,  7.83091486e-02,  1.96039882e-02,\n",
              "          9.64894593e-02],\n",
              "        [-1.01091132e-01,  7.37100482e-01, -5.61452545e-02,\n",
              "         -1.30870387e-01,  7.60812759e-01, -5.57816565e-01,\n",
              "         -1.24933690e-01, -2.11084709e-01, -2.52037257e-01,\n",
              "         -7.26419806e-01],\n",
              "        [-4.88779753e-01,  6.53338730e-02,  3.58426571e-01,\n",
              "         -6.07746661e-01,  3.29127014e-01, -4.53882575e-01,\n",
              "         -2.44765624e-01,  3.33252460e-01, -2.28153646e-01,\n",
              "          6.69318065e-02],\n",
              "        [ 2.54161209e-01, -3.99056762e-01, -4.68104571e-01,\n",
              "         -2.77122378e-01, -1.99050456e-01, -3.04906443e-02,\n",
              "          1.69812178e-03,  3.90635073e-01,  1.77457243e-01,\n",
              "         -4.82006609e-01],\n",
              "        [ 1.23665355e-01,  4.10639048e-01, -4.09683377e-01,\n",
              "         -1.15788206e-01,  2.55417168e-01,  1.63276017e-01,\n",
              "          3.83151531e-01, -1.47727340e-01, -3.62854972e-02,\n",
              "         -1.14091069e-01],\n",
              "        [-3.20489705e-02, -1.29802793e-01,  1.66853353e-01,\n",
              "         -1.90292850e-01,  1.54347554e-01, -3.46897602e-01,\n",
              "         -2.17689320e-01, -2.65580356e-01, -2.40133509e-01,\n",
              "          2.29398564e-01],\n",
              "        [-1.17533065e-01,  8.08084235e-02,  2.71312118e-01,\n",
              "          1.17639780e-01, -4.31969523e-01,  3.42900574e-01,\n",
              "          4.39291030e-01, -1.50265530e-01, -9.96712521e-02,\n",
              "         -9.59279716e-01],\n",
              "        [-1.83539882e-01,  3.78435075e-01, -4.11989167e-02,\n",
              "         -1.38788586e-02, -8.30981791e-01,  4.43402469e-01,\n",
              "         -7.63379708e-02,  2.04624712e-01, -1.79718360e-01,\n",
              "         -4.63624716e-01],\n",
              "        [-1.21876106e-01,  2.09228739e-01, -2.10745305e-01,\n",
              "          1.58865348e-01, -3.69395576e-02, -7.43066132e-01,\n",
              "          4.80348349e-01,  1.74575403e-01, -6.60981596e-01,\n",
              "         -3.86397481e-01],\n",
              "        [ 6.83527589e-02,  1.82950869e-01,  2.17927337e-01,\n",
              "          2.19953522e-01, -2.49830469e-01,  7.93172792e-02,\n",
              "          1.16094209e-01, -3.15813452e-01,  1.82546705e-01,\n",
              "         -2.39400744e-01],\n",
              "        [-8.16816449e-01,  1.63748801e-01, -2.73068398e-01,\n",
              "          3.61687541e-02,  2.07576290e-01,  2.12446034e-01,\n",
              "         -3.73923570e-01, -4.15233403e-01,  2.32466310e-01,\n",
              "          1.57970250e-01]], dtype=float32),\n",
              " array([-0.12296844, -0.00324571, -0.01964575, -0.1237902 ,  0.04076498,\n",
              "         0.12310494,  0.02097637, -0.01596301,  0.10172769, -0.055099  ],\n",
              "       dtype=float32)]"
            ]
          },
          "metadata": {},
          "execution_count": 32
        }
      ]
    },
    {
      "cell_type": "markdown",
      "source": [
        "## <b>CNN</b>"
      ],
      "metadata": {
        "id": "51NSsIY9vGaw"
      }
    },
    {
      "cell_type": "code",
      "source": [
        "y_train = y_train.reshape(-1, )\n",
        "y_test = y_test.reshape(-1, )\n",
        "print(y_train)"
      ],
      "metadata": {
        "colab": {
          "base_uri": "https://localhost:8080/"
        },
        "id": "7QpCDtgftPFp",
        "outputId": "9136c148-5703-4acb-ee71-f1b38619b895"
      },
      "execution_count": null,
      "outputs": [
        {
          "output_type": "stream",
          "name": "stdout",
          "text": [
            "[5 0 4 ... 5 6 8]\n"
          ]
        }
      ]
    },
    {
      "cell_type": "code",
      "source": [
        "cnn = keras.Sequential([\n",
        "    keras.layers.Conv2D(filters=28, kernel_size=(3, 3), activation='relu', input_shape=(28, 28, 1)),\n",
        "    keras.layers.MaxPooling2D((2, 2)),\n",
        "    \n",
        "    keras.layers.Conv2D(filters=56, kernel_size=(4, 4), activation='relu'),\n",
        "    keras.layers.MaxPooling2D((2, 2)),\n",
        "    \n",
        "    keras.layers.Flatten(),\n",
        "    keras.layers.Dense(56, activation='relu'),\n",
        "    keras.layers.Dense(10, activation='softmax')\n",
        "])"
      ],
      "metadata": {
        "id": "eAXIaI_qyF4K"
      },
      "execution_count": null,
      "outputs": []
    },
    {
      "cell_type": "code",
      "source": [
        "cnn.compile(optimizer='adam',\n",
        "              loss='sparse_categorical_crossentropy',\n",
        "              metrics=['accuracy'])"
      ],
      "metadata": {
        "id": "ZJ11QjVAw6ye"
      },
      "execution_count": null,
      "outputs": []
    },
    {
      "cell_type": "code",
      "source": [
        "cnn.fit(X_train, y_train, epochs=10)"
      ],
      "metadata": {
        "colab": {
          "base_uri": "https://localhost:8080/"
        },
        "id": "SJMXOlvSxAXs",
        "outputId": "dc91d469-b100-4035-bc1d-bd97d4b67524"
      },
      "execution_count": null,
      "outputs": [
        {
          "output_type": "stream",
          "name": "stdout",
          "text": [
            "Epoch 1/10\n",
            "1875/1875 [==============================] - 59s 31ms/step - loss: 0.1336 - accuracy: 0.9599\n",
            "Epoch 2/10\n",
            "1875/1875 [==============================] - 61s 33ms/step - loss: 0.0424 - accuracy: 0.9869\n",
            "Epoch 3/10\n",
            "1875/1875 [==============================] - 60s 32ms/step - loss: 0.0288 - accuracy: 0.9908\n",
            "Epoch 4/10\n",
            "1875/1875 [==============================] - 57s 30ms/step - loss: 0.0203 - accuracy: 0.9934\n",
            "Epoch 5/10\n",
            "1875/1875 [==============================] - 58s 31ms/step - loss: 0.0157 - accuracy: 0.9946\n",
            "Epoch 6/10\n",
            "1875/1875 [==============================] - 57s 31ms/step - loss: 0.0135 - accuracy: 0.9956\n",
            "Epoch 7/10\n",
            "1875/1875 [==============================] - 59s 31ms/step - loss: 0.0098 - accuracy: 0.9965\n",
            "Epoch 8/10\n",
            "1875/1875 [==============================] - 57s 30ms/step - loss: 0.0088 - accuracy: 0.9969\n",
            "Epoch 9/10\n",
            "1875/1875 [==============================] - 57s 30ms/step - loss: 0.0071 - accuracy: 0.9975\n",
            "Epoch 10/10\n",
            "1875/1875 [==============================] - 57s 31ms/step - loss: 0.0064 - accuracy: 0.9979\n"
          ]
        },
        {
          "output_type": "execute_result",
          "data": {
            "text/plain": [
              "<keras.callbacks.History at 0x7eff9e5524a0>"
            ]
          },
          "metadata": {},
          "execution_count": 44
        }
      ]
    },
    {
      "cell_type": "code",
      "source": [
        "cnn.evaluate(X_test,y_test)"
      ],
      "metadata": {
        "id": "H6DnvtGJxFMu",
        "colab": {
          "base_uri": "https://localhost:8080/"
        },
        "outputId": "ce8458c5-c788-4027-ae1f-741e82017115"
      },
      "execution_count": null,
      "outputs": [
        {
          "output_type": "stream",
          "name": "stdout",
          "text": [
            "313/313 [==============================] - 3s 9ms/step - loss: 0.0341 - accuracy: 0.9919\n"
          ]
        },
        {
          "output_type": "execute_result",
          "data": {
            "text/plain": [
              "[0.034074217081069946, 0.9919000267982483]"
            ]
          },
          "metadata": {},
          "execution_count": 45
        }
      ]
    },
    {
      "cell_type": "code",
      "source": [
        "y_predicted = cnn.predict(X_test)\n",
        "y_pred_classes= [np.argmax(pred) for pred in y_predicted]\n",
        "print(y_pred_classes[:5])\n",
        "print(\"Classification Report: \\n\", classification_report(y_test, y_pred_classes))"
      ],
      "metadata": {
        "id": "8QxLoPnbxKKq",
        "colab": {
          "base_uri": "https://localhost:8080/"
        },
        "outputId": "dd4f2a72-0c78-4451-8eea-ca10b188dfcb"
      },
      "execution_count": null,
      "outputs": [
        {
          "output_type": "stream",
          "name": "stdout",
          "text": [
            "313/313 [==============================] - 3s 9ms/step\n",
            "[7, 2, 1, 0, 4]\n",
            "Classification Report: \n",
            "               precision    recall  f1-score   support\n",
            "\n",
            "           0       0.99      1.00      1.00       980\n",
            "           1       1.00      0.99      1.00      1135\n",
            "           2       0.99      1.00      0.99      1032\n",
            "           3       0.99      0.99      0.99      1010\n",
            "           4       0.99      0.99      0.99       982\n",
            "           5       0.99      0.99      0.99       892\n",
            "           6       0.99      0.99      0.99       958\n",
            "           7       1.00      0.98      0.99      1028\n",
            "           8       0.99      0.99      0.99       974\n",
            "           9       0.99      0.99      0.99      1009\n",
            "\n",
            "    accuracy                           0.99     10000\n",
            "   macro avg       0.99      0.99      0.99     10000\n",
            "weighted avg       0.99      0.99      0.99     10000\n",
            "\n"
          ]
        }
      ]
    },
    {
      "cell_type": "code",
      "source": [],
      "metadata": {
        "id": "3IV-MSFRP8lm"
      },
      "execution_count": null,
      "outputs": []
    }
  ]
}